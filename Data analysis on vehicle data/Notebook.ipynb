{
 "cells": [
  {
   "cell_type": "code",
   "execution_count": 105,
   "id": "e7c36929",
   "metadata": {},
   "outputs": [],
   "source": [
    "#Importing all the required libraries \n",
    "import pandas as pd \n",
    "import numpy as np\n",
    "import math\n",
    "import scipy as s\n",
    "import seaborn as sea "
   ]
  },
  {
   "cell_type": "code",
   "execution_count": 106,
   "id": "3817a9e7",
   "metadata": {},
   "outputs": [],
   "source": [
    "#Importing the Data with the delimiter\n",
    "df1 = pd.read_csv('auto-mpg.data' , delimiter = '\\s+' )"
   ]
  },
  {
   "cell_type": "code",
   "execution_count": 107,
   "id": "00da6bbe",
   "metadata": {},
   "outputs": [
    {
     "name": "stdout",
     "output_type": "stream",
     "text": [
      "(400, 9)\n"
     ]
    }
   ],
   "source": [
    "print(df1.shape) "
   ]
  },
  {
   "cell_type": "code",
   "execution_count": 108,
   "id": "ffd60ccc",
   "metadata": {},
   "outputs": [
    {
     "name": "stdout",
     "output_type": "stream",
     "text": [
      "      mpg  cylinders  displacement horsepower  weight  acceleration  \\\n",
      "96   16.0          6         225.0      105.0  3439.0          15.5   \n",
      "158  13.0          8         351.0      158.0  4363.0          13.0   \n",
      "\n",
      "     model_year  origin                   car_name  \n",
      "96           71       1  plymouth satellite custom  \n",
      "158          73       1                   ford ltd  \n",
      "(398, 9)\n"
     ]
    }
   ],
   "source": [
    "duplicated = df1[df1.duplicated()] #Identifying the Duplicates \n",
    "print (duplicated) #Printing the Duplicated \n",
    "df1.drop_duplicates( keep='first' , inplace = True) #Command for removing the Duplicates from the Dataframe\n",
    "print(df1.shape) # Dimension of the data frame after removing Duplicates "
   ]
  },
  {
   "cell_type": "code",
   "execution_count": 109,
   "id": "8a672cc4",
   "metadata": {},
   "outputs": [
    {
     "name": "stdout",
     "output_type": "stream",
     "text": [
      "False\n"
     ]
    }
   ],
   "source": [
    "\n",
    "print(pd.isnull(df1['horsepower']).any()) #For checking if there are any null values in the dataset for column horsepower "
   ]
  },
  {
   "cell_type": "code",
   "execution_count": 110,
   "id": "80b9f322",
   "metadata": {},
   "outputs": [
    {
     "name": "stdout",
     "output_type": "stream",
     "text": [
      "(392, 9)\n"
     ]
    }
   ],
   "source": [
    "df2 = df1[pd.to_numeric(arg = df1['horsepower'] , errors = 'coerce').notnull()] #Command to drop the Columns with non-integral values\n",
    " #This command basically will remove  the ? present in the Horsepower column \n",
    "print(df2.shape)"
   ]
  },
  {
   "cell_type": "code",
   "execution_count": 111,
   "id": "7179d66e",
   "metadata": {},
   "outputs": [],
   "source": [
    "#Splitting the Dataset in Traning and test data by keeping the 10% as the test and remaining 90 % as training \n",
    "from sklearn.model_selection import train_test_split\n",
    "X= df2.iloc[:,:-1]\n",
    "y= df2.iloc[: , -1]\n",
    "X_train, X_test, y_train, y_test = train_test_split(X,  y, random_state = 0 , train_size = 0.9)"
   ]
  },
  {
   "cell_type": "code",
   "execution_count": 112,
   "id": "27c70c01",
   "metadata": {},
   "outputs": [],
   "source": [
    "X_test1 = X_test.copy(deep =True) #Making this new dataframe so that I can have the orignal values of the X_test\n",
    "# (Deep is turned as true so that no values of the copied datasframe are reflected on the new copied data frome)"
   ]
  },
  {
   "cell_type": "code",
   "execution_count": 113,
   "id": "fb74e387",
   "metadata": {},
   "outputs": [],
   "source": [
    "#For assigning null values to the horspower column of X_test\n",
    "X_test1['horsepower'] = pd.NA"
   ]
  },
  {
   "cell_type": "code",
   "execution_count": 114,
   "id": "65c7b479",
   "metadata": {},
   "outputs": [
    {
     "data": {
      "text/plain": [
       "dtype('O')"
      ]
     },
     "execution_count": 114,
     "metadata": {},
     "output_type": "execute_result"
    }
   ],
   "source": [
    "X_train['horsepower'].dtype"
   ]
  },
  {
   "cell_type": "code",
   "execution_count": 115,
   "id": "141358cf",
   "metadata": {},
   "outputs": [
    {
     "name": "stdout",
     "output_type": "stream",
     "text": [
      " Mean =  104.29545454545455 \n",
      " Median =  95.0\n"
     ]
    }
   ],
   "source": [
    "#Calculating the mean and the median of the Horsepower dataset from X_train\n",
    "X_train['horsepower'] = X_train['horsepower'].astype('float') # This is done in order to convert the dtype of the horsepower column\n",
    "# from object type to the float type \n",
    "mean_horsepower = X_train['horsepower'].mean()\n",
    "median_horsepower = X_train['horsepower'].median()\n",
    "print(' Mean = ',mean_horsepower, '\\n Median = ' , median_horsepower)"
   ]
  },
  {
   "cell_type": "code",
   "execution_count": 116,
   "id": "8ea72bcf",
   "metadata": {},
   "outputs": [
    {
     "name": "stdout",
     "output_type": "stream",
     "text": [
      "Mean RMSE - 38.07237154691853\n"
     ]
    }
   ],
   "source": [
    "X_test1['horsepower'] = mean_horsepower #Filling in the missing values of the horspower with the mean value \n",
    "#Calculating the RMSE when the mean of X_train is replace\n",
    "from sklearn.metrics import mean_squared_error\n",
    "RMS_mean = mean_squared_error(X_test['horsepower'] , X_test1['horsepower'])\n",
    "RMSE_mean =math.sqrt(RMS_mean)\n",
    "print ('Mean RMSE -' , RMSE_mean )"
   ]
  },
  {
   "cell_type": "code",
   "execution_count": 117,
   "id": "d9ff239e",
   "metadata": {},
   "outputs": [
    {
     "name": "stdout",
     "output_type": "stream",
     "text": [
      "Median RMSE - 39.59292866156784\n"
     ]
    }
   ],
   "source": [
    "#Calculating the RMSE when the median of X_train is replaced for the horsepower value \n",
    "X_test1['horsepower'] = median_horsepower #Replacing  the missing values of the horspower with the median value \n",
    "RMS_median = mean_squared_error(X_test['horsepower'] , X_test1['horsepower'])\n",
    "RMSE_median =math.sqrt(RMS_median)\n",
    "print ('Median RMSE -' , RMSE_median)\n"
   ]
  },
  {
   "cell_type": "code",
   "execution_count": 118,
   "id": "ae30244e",
   "metadata": {},
   "outputs": [],
   "source": [
    "#Here we are standardizing the data for the X_test in order to make it suitablel for the KNN Imputation method \n",
    "X_test_S = X_test1.copy(deep = True) \n",
    "X_test_S = X_test_S.drop(['cylinders' , 'model_year' , 'origin'], axis = 1 )\n",
    "from sklearn.preprocessing import StandardScaler\n",
    "sc = StandardScaler()\n",
    "stan_data = sc.fit_transform(X_test_S)\n",
    "X_test_S = pd.DataFrame(stan_data, columns = X_test_S.columns)"
   ]
  },
  {
   "cell_type": "code",
   "execution_count": 119,
   "id": "8811e5a5",
   "metadata": {},
   "outputs": [],
   "source": [
    "#Here we are standardizing the test set data in order for the KNN Imputation be trained on the standardized training data set \n",
    "X_train1 = X_train.copy(deep = True)\n",
    "X_train1 = X_train1.drop([ 'cylinders' , 'model_year' , 'origin'] ,axis = 1)\n",
    "sc1 = StandardScaler()\n",
    "stan_data1 = sc1.fit_transform(X_train1)\n",
    "X_train1_S = pd.DataFrame(stan_data1, columns = X_train1.columns)"
   ]
  },
  {
   "cell_type": "code",
   "execution_count": 120,
   "id": "888b6296",
   "metadata": {},
   "outputs": [],
   "source": [
    "X_test_S['horsepower'] = np.NaN"
   ]
  },
  {
   "cell_type": "code",
   "execution_count": 121,
   "id": "7189bef0",
   "metadata": {},
   "outputs": [
    {
     "name": "stdout",
     "output_type": "stream",
     "text": [
      "{1: 14.832396974191326, 3: 11.184562773950729, 5: 11.175508936956742}\n"
     ]
    }
   ],
   "source": [
    "# For calculating the missing values of horsepower using KNN Imputer \n",
    "RMSE_DICT = {}\n",
    "\n",
    "for i in range (1,6,2 ):\n",
    "\n",
    "    sc1 = StandardScaler()\n",
    "    stan_data1 = sc1.fit_transform(X_train1)\n",
    "    X_train1_S = pd.DataFrame(stan_data1, columns = X_train1.columns)\n",
    "    \n",
    "    X_test_S['horsepower'] = np.NaN\n",
    "    \n",
    "    from sklearn.impute import KNNImputer\n",
    "    imp = KNNImputer(missing_values= np.nan , n_neighbors=i)\n",
    "    imp.fit(X_train1_S) #Fitting the KNN Imputation model for the training data set \n",
    "    X_test_trf = imp.transform(X_test_S) #Transforming the values of the test data set\n",
    "    X_test1_trf = pd.DataFrame(X_test_trf, columns = X_test_S.columns) #Transforming the array into the proper column format that is \n",
    "# that is returned from the KNN Imputation method\n",
    "    \n",
    "#Here we are again inverse stadardizing the data in order for it to be compared with the earlier mean and median substititued \n",
    "# RMSE Values\n",
    "    X_test1_trf_inv = sc1.inverse_transform(X_test1_trf)\n",
    "    X_test1_trf_inv = pd.DataFrame(X_test1_trf_inv, columns = X_test1_trf.columns)\n",
    "    \n",
    "#Computing the RMSE for the inverse transformed KNN Imputed values and the orginal values    \n",
    "    RMSK = mean_squared_error(X_test['horsepower'] , X_test1_trf_inv['horsepower'])\n",
    "    RMSEK =math.sqrt(RMSK)\n",
    "    RMSE_DICT[i] = RMSEK\n",
    "#Printing the dictionary contatining all the 3 values of RMSE's for different values of k \n",
    "print(RMSE_DICT)"
   ]
  },
  {
   "cell_type": "code",
   "execution_count": 122,
   "id": "0e46faae",
   "metadata": {},
   "outputs": [
    {
     "name": "stderr",
     "output_type": "stream",
     "text": [
      "c:\\Users\\Puru\\AppData\\Local\\Programs\\Python\\Python310\\lib\\site-packages\\sklearn\\utils\\extmath.py:981: RuntimeWarning: invalid value encountered in divide\n",
      "  updated_mean = (last_sum + new_sum) / updated_sample_count\n",
      "c:\\Users\\Puru\\AppData\\Local\\Programs\\Python\\Python310\\lib\\site-packages\\sklearn\\utils\\extmath.py:986: RuntimeWarning: invalid value encountered in divide\n",
      "  T = new_sum / new_sample_count\n",
      "c:\\Users\\Puru\\AppData\\Local\\Programs\\Python\\Python310\\lib\\site-packages\\sklearn\\utils\\extmath.py:1006: RuntimeWarning: invalid value encountered in divide\n",
      "  new_unnormalized_variance -= correction**2 / new_sample_count\n"
     ]
    }
   ],
   "source": [
    "#Finally filling in the values with the lowest RMSE Value which is neighbour = 5\n",
    "\n",
    "sc = StandardScaler()\n",
    "stan_data = sc.fit_transform(X_test_S)\n",
    "X_test_S = pd.DataFrame(stan_data, columns = X_test_S.columns)\n",
    "X_test_S['horsepower'] = np.NaN\n",
    "\n",
    "imp = KNNImputer(missing_values= np.nan , n_neighbors=5)\n",
    "imp.fit(X_train1_S) #Fitting the KNN Imputation model for the training data set \n",
    "X_test_trf = imp.transform(X_test_S) #Transforming the values of the test data set\n",
    "X_test1_trf = pd.DataFrame(X_test_trf, columns = X_test_S.columns) #Transforming the array into the proper column format that is \n",
    "# that is returned from the KNN Imputation method\n",
    "\n",
    "#Here we are again inverse stadardizing the data in order for it to be compared with the earlier mean and median substititued \n",
    "# RMSE Values\n",
    "X_test1_trf_inv = sc1.inverse_transform(X_test1_trf)\n",
    "X_test1_trf_inv = pd.DataFrame(X_test1_trf_inv, columns = X_test1_trf.columns)"
   ]
  },
  {
   "cell_type": "code",
   "execution_count": 123,
   "id": "247d4d33",
   "metadata": {},
   "outputs": [
    {
     "name": "stdout",
     "output_type": "stream",
     "text": [
      "0      80.0\n",
      "1      90.6\n",
      "2     170.6\n",
      "3      74.6\n",
      "4      72.2\n",
      "5      94.6\n",
      "6      65.2\n",
      "7      78.8\n",
      "8      91.6\n",
      "9      76.4\n",
      "10     60.4\n",
      "11    154.4\n",
      "12     91.2\n",
      "13    170.0\n",
      "14    143.2\n",
      "15     74.0\n",
      "16     97.6\n",
      "17    136.4\n",
      "18     87.6\n",
      "19     85.6\n",
      "20    145.8\n",
      "21    104.6\n",
      "22     78.8\n",
      "23     93.2\n",
      "24     72.4\n",
      "25    157.0\n",
      "26     91.2\n",
      "27     86.2\n",
      "28     93.0\n",
      "29    144.0\n",
      "30    100.2\n",
      "31     79.2\n",
      "32     85.8\n",
      "33     77.6\n",
      "34    101.4\n",
      "35     87.0\n",
      "36     58.8\n",
      "37    179.0\n",
      "38    147.0\n",
      "39    211.6\n",
      "Name: horsepower, dtype: float64\n"
     ]
    }
   ],
   "source": [
    "#For visualizing the final filled in values of the Horsepower Column\n",
    "print(X_test1_trf_inv['horsepower'])"
   ]
  },
  {
   "cell_type": "code",
   "execution_count": 124,
   "id": "c1e48152",
   "metadata": {},
   "outputs": [
    {
     "data": {
      "text/plain": [
       "0.45534138282810366"
      ]
     },
     "execution_count": 124,
     "metadata": {},
     "output_type": "execute_result"
    }
   ],
   "source": [
    "#calculating the skewness for the mpg column also the value differs a bit from the excel as a few rows are already dropped\n",
    "from scipy.stats import skew\n",
    "skew(df2['mpg'])"
   ]
  },
  {
   "cell_type": "code",
   "execution_count": 125,
   "id": "97302251",
   "metadata": {},
   "outputs": [
    {
     "data": {
      "text/plain": [
       "-0.52470258338766"
      ]
     },
     "execution_count": 125,
     "metadata": {},
     "output_type": "execute_result"
    }
   ],
   "source": [
    "#Calculating kurtosis for the dataset\n",
    "from scipy.stats import kurtosis\n",
    "kurtosis(df2['mpg'])"
   ]
  },
  {
   "cell_type": "code",
   "execution_count": 126,
   "id": "db860350",
   "metadata": {},
   "outputs": [
    {
     "name": "stderr",
     "output_type": "stream",
     "text": [
      "C:\\Users\\Puru\\AppData\\Local\\Temp\\ipykernel_2604\\1759065907.py:2: UserWarning: \n",
      "\n",
      "`distplot` is a deprecated function and will be removed in seaborn v0.14.0.\n",
      "\n",
      "Please adapt your code to use either `displot` (a figure-level function with\n",
      "similar flexibility) or `histplot` (an axes-level function for histograms).\n",
      "\n",
      "For a guide to updating your code to use the new functions, please see\n",
      "https://gist.github.com/mwaskom/de44147ed2974457ad6372750bbe5751\n",
      "\n",
      "  sea.distplot(df2['mpg'], kde = False)\n"
     ]
    },
    {
     "data": {
      "text/plain": [
       "<AxesSubplot: xlabel='mpg'>"
      ]
     },
     "execution_count": 126,
     "metadata": {},
     "output_type": "execute_result"
    },
    {
     "data": {
      "image/png": "[encoded data removed]",
      "text/plain": [
       "<Figure size 640x480 with 1 Axes>"
      ]
     },
     "metadata": {},
     "output_type": "display_data"
    }
   ],
   "source": [
    "#Drawing the histogram for the displot function \n",
    "sea.distplot(df2['mpg'], kde = False)"
   ]
  },
  {
   "cell_type": "code",
   "execution_count": 127,
   "id": "89e9d493",
   "metadata": {},
   "outputs": [
    {
     "name": "stdout",
     "output_type": "stream",
     "text": [
      "Q1 17.0 Q3 29.0 IQR 12.0\n",
      "upper_limit 47.0 lower_limit -1.0\n"
     ]
    }
   ],
   "source": [
    "#Finding the Outliers of the mpg using the IQR Approach\n",
    "\n",
    "Q1 = np.percentile(df2['mpg'] ,25 )\n",
    "Q3 = np.percentile (df2['mpg'], 75)\n",
    "IQR = Q3 - Q1\n",
    "print ('Q1', Q1, 'Q3',  Q3 ,'IQR',  IQR)\n",
    "upper_limit = Q3 + 1.5 * IQR\n",
    "lower_limit = Q1 - 1.5 *IQR\n",
    "print ('upper_limit', upper_limit ,'lower_limit',  lower_limit)\n"
   ]
  },
  {
   "cell_type": "code",
   "execution_count": 128,
   "id": "6a5d66d1",
   "metadata": {},
   "outputs": [
    {
     "name": "stdout",
     "output_type": "stream",
     "text": [
      "{}\n"
     ]
    }
   ],
   "source": [
    "#For finding out the outlier in the function along with its index and then imputing it with the minimum or the maximum value\n",
    "outliers = {}\n",
    "for i in range (0 , len(df2['mpg'])):\n",
    "    if df2['mpg'].iloc[i]>upper_limit:\n",
    "        outliers[i] = df2['mpg'].iloc[i]\n",
    "        df2['mpg'].iloc[i] = upper_limit\n",
    "    elif df2['mpg'].iloc[i]<lower_limit:\n",
    "        outliers[i] = df2['mpg'].iloc[i]\n",
    "        df2['mpg'].iloc[i] = lower_limit\n",
    "print(outliers)"
   ]
  },
  {
   "cell_type": "code",
   "execution_count": 129,
   "id": "af63dc27",
   "metadata": {},
   "outputs": [],
   "source": [
    "df2_c = df2.copy(deep = True) #Making the copy of the earlier data frame in order to preserve the \n",
    "#Values for the earlier dataframe "
   ]
  },
  {
   "cell_type": "code",
   "execution_count": 130,
   "id": "2942b989",
   "metadata": {},
   "outputs": [],
   "source": [
    "df2_c['mpg'] = np.log((df2_c['mpg'])+1) # Making the mpg column follow the normal distribution  loge (x+1)"
   ]
  },
  {
   "cell_type": "code",
   "execution_count": 131,
   "id": "653aa531",
   "metadata": {},
   "outputs": [
    {
     "name": "stderr",
     "output_type": "stream",
     "text": [
      "C:\\Users\\Puru\\AppData\\Local\\Temp\\ipykernel_2604\\3311967683.py:1: UserWarning: \n",
      "\n",
      "`distplot` is a deprecated function and will be removed in seaborn v0.14.0.\n",
      "\n",
      "Please adapt your code to use either `displot` (a figure-level function with\n",
      "similar flexibility) or `histplot` (an axes-level function for histograms).\n",
      "\n",
      "For a guide to updating your code to use the new functions, please see\n",
      "https://gist.github.com/mwaskom/de44147ed2974457ad6372750bbe5751\n",
      "\n",
      "  sea.distplot(df2_c['mpg'])\n"
     ]
    },
    {
     "data": {
      "text/plain": [
       "<AxesSubplot: xlabel='mpg', ylabel='Density'>"
      ]
     },
     "execution_count": 131,
     "metadata": {},
     "output_type": "execute_result"
    },
    {
     "data": {
      "image/png": "[encoded data removed]",
      "text/plain": [
       "<Figure size 640x480 with 1 Axes>"
      ]
     },
     "metadata": {},
     "output_type": "display_data"
    }
   ],
   "source": [
    "sea.distplot(df2_c['mpg'])"
   ]
  },
  {
   "cell_type": "code",
   "execution_count": 132,
   "id": "f073a89c",
   "metadata": {},
   "outputs": [
    {
     "name": "stdout",
     "output_type": "stream",
     "text": [
      "Earlier Kurtosis -0.52470258338766    Earlier Skewness 0.45534138282810366\n",
      "New Kurtosis     -0.838612921315721    New Skewness   -0.10386599601768146\n"
     ]
    }
   ],
   "source": [
    "#Calculating the earlier and the new kurtosis and the skewness values and comparing them with \n",
    "# the older ones in order to see the difference \n",
    "print ('Earlier Kurtosis', kurtosis(df2['mpg']) , '   Earlier Skewness', skew(df2['mpg']))\n",
    "print ('New Kurtosis    '  ,  kurtosis(df2_c['mpg']) , '   New Skewness  ' ,skew(df2_c['mpg']))"
   ]
  },
  {
   "cell_type": "code",
   "execution_count": 133,
   "id": "0300e87a",
   "metadata": {},
   "outputs": [
    {
     "data": {
      "image/png": "[encoded data removed]",
      "text/plain": [
       "<Figure size 640x480 with 1 Axes>"
      ]
     },
     "metadata": {},
     "output_type": "display_data"
    },
    {
     "data": {
      "image/png": "[encoded data removed]",
      "text/plain": [
       "<Figure size 640x480 with 1 Axes>"
      ]
     },
     "metadata": {},
     "output_type": "display_data"
    }
   ],
   "source": [
    "import statsmodels.api as sm\n",
    "import matplotlib.pyplot as plt\n",
    "\n",
    "#create Q-Q plot for the earlier and the new mpg value and seeing that it follows more normal distribution as compared to the\n",
    "# previous non-transformed value \n",
    "fig = sm.qqplot(df2_c['mpg'], line='45' , xlabel = 'Plot after applying loge (x+1) transformation ')\n",
    "fig = sm.qqplot(df2['mpg'], line='45' , xlabel = 'Plot without transformation')\n",
    "plt.show()"
   ]
  },
  {
   "cell_type": "code",
   "execution_count": 134,
   "id": "0ed9afeb",
   "metadata": {},
   "outputs": [
    {
     "name": "stdout",
     "output_type": "stream",
     "text": [
      "2225.25 3614.75 1389.5\n",
      "5699.0 141.0\n",
      "{}\n"
     ]
    }
   ],
   "source": [
    "#detect and correct outliers in the weight, displacement, horsepower and acceleration Columns\n",
    "\n",
    "#Finding the Outliers of the mpg using the IQR Approach\n",
    "\n",
    "Q1_weight = np.percentile(df2['weight'] ,25 )\n",
    "Q3_weight = np.percentile (df2['weight'], 75)\n",
    "IQR_weight = Q3_weight - Q1_weight\n",
    "print (Q1_weight, Q3_weight , IQR_weight)\n",
    "upper_limit_weight = Q3_weight + 1.5 * IQR_weight\n",
    "lower_limit_weight = Q1_weight - 1.5 *IQR_weight\n",
    "print (upper_limit_weight , lower_limit_weight)\n",
    "\n",
    "outliers_weight = {}\n",
    "for i in range (0 , len(df2['weight'])):\n",
    "    if df2['weight'].iloc[i]>upper_limit_weight:\n",
    "        outliers_weight[i] = df2['weight'].iloc[i]\n",
    "        df2['weight'].iloc[i] = upper_limit_weight\n",
    "    elif df2['weight'].iloc[i]<lower_limit_weight:\n",
    "        outliers_weight[i] = df2['weight'].iloc[i]\n",
    "        df2['weight'].iloc[i] = lower_limit_weight\n",
    "print(outliers_weight)"
   ]
  },
  {
   "cell_type": "code",
   "execution_count": 135,
   "id": "3be30018",
   "metadata": {},
   "outputs": [
    {
     "name": "stdout",
     "output_type": "stream",
     "text": [
      "105.0 275.75 170.75\n",
      "531.875 -151.125\n",
      "{}\n"
     ]
    }
   ],
   "source": [
    "Q1_displacement = np.percentile(df2['displacement'] ,25 )\n",
    "Q3_displacement = np.percentile (df2['displacement'], 75)\n",
    "IQR_displacement = Q3_displacement - Q1_displacement\n",
    "print (Q1_displacement, Q3_displacement , IQR_displacement)\n",
    "upper_limit_displacement = Q3_displacement + 1.5 * IQR_displacement\n",
    "lower_limit_displacement = Q1_displacement - 1.5 *IQR_displacement\n",
    "print (upper_limit_displacement , lower_limit_displacement)\n",
    "\n",
    "outliers_displacement = {}\n",
    "for i in range (0 , len(df2['displacement'])):\n",
    "    if df2['displacement'].iloc[i]>upper_limit_displacement:\n",
    "        outliers_displacement[i] = df2['displacement'].iloc[i]\n",
    "        df2['displacement'].iloc[i] = upper_limit_displacement\n",
    "    elif df2['displacement'].iloc[i]<lower_limit_displacement:\n",
    "        outliers_displacement[i] = df2['displacement'].iloc[i]\n",
    "        df2['displacement'].iloc[i] = lower_limit_displacement\n",
    "print(outliers_displacement)"
   ]
  },
  {
   "cell_type": "code",
   "execution_count": 136,
   "id": "f828fd6e",
   "metadata": {},
   "outputs": [
    {
     "name": "stdout",
     "output_type": "stream",
     "text": [
      "13.775 17.025 3.2499999999999982\n",
      "21.899999999999995 8.900000000000002\n",
      "{7: 8.5, 9: 8.5, 11: 8.0, 58: 23.5, 193: 22.2, 194: 22.1, 207: 21.9, 297: 24.8, 298: 22.2, 324: 23.7, 388: 24.6}\n"
     ]
    },
    {
     "name": "stderr",
     "output_type": "stream",
     "text": [
      "C:\\Users\\Puru\\AppData\\Local\\Temp\\ipykernel_2604\\2123868593.py:16: SettingWithCopyWarning: \n",
      "A value is trying to be set on a copy of a slice from a DataFrame\n",
      "\n",
      "See the caveats in the documentation: https://pandas.pydata.org/pandas-docs/stable/user_guide/indexing.html#returning-a-view-versus-a-copy\n",
      "  df2['acceleration'].iloc[i] = lower_limit_acceleration\n",
      "C:\\Users\\Puru\\AppData\\Local\\Temp\\ipykernel_2604\\2123868593.py:13: SettingWithCopyWarning: \n",
      "A value is trying to be set on a copy of a slice from a DataFrame\n",
      "\n",
      "See the caveats in the documentation: https://pandas.pydata.org/pandas-docs/stable/user_guide/indexing.html#returning-a-view-versus-a-copy\n",
      "  df2['acceleration'].iloc[i] = upper_limit_acceleration\n"
     ]
    }
   ],
   "source": [
    "Q1_acceleration = np.percentile(df2['acceleration'] ,25 )\n",
    "Q3_acceleration = np.percentile (df2['acceleration'], 75)\n",
    "IQR_acceleration = Q3_acceleration - Q1_acceleration\n",
    "print (Q1_acceleration, Q3_acceleration , IQR_acceleration)\n",
    "upper_limit_acceleration = Q3_acceleration + 1.5 * IQR_acceleration\n",
    "lower_limit_acceleration = Q1_acceleration - 1.5 *IQR_acceleration\n",
    "print (upper_limit_acceleration , lower_limit_acceleration)\n",
    "\n",
    "outliers_acceleration = {}\n",
    "for i in range (0 , len(df2['acceleration'])):\n",
    "    if df2['acceleration'].iloc[i]>upper_limit_acceleration:\n",
    "        outliers_acceleration[i] = df2['acceleration'].iloc[i]\n",
    "        df2['acceleration'].iloc[i] = upper_limit_acceleration\n",
    "    elif df2['acceleration'].iloc[i]<lower_limit_acceleration:\n",
    "        outliers_acceleration[i] = df2['acceleration'].iloc[i]\n",
    "        df2['acceleration'].iloc[i] = lower_limit_acceleration\n",
    "print(outliers_acceleration)"
   ]
  },
  {
   "cell_type": "code",
   "execution_count": 137,
   "id": "0a008fd0",
   "metadata": {},
   "outputs": [
    {
     "name": "stdout",
     "output_type": "stream",
     "text": [
      "75.0 126.0 51.0\n",
      "202.5 -1.5\n",
      "{6: 220.0, 7: 215.0, 8: 225.0, 13: 225.0, 25: 215.0, 27: 210.0, 66: 208.0, 93: 215.0, 94: 225.0, 115: 230.0}\n"
     ]
    },
    {
     "name": "stderr",
     "output_type": "stream",
     "text": [
      "C:\\Users\\Puru\\AppData\\Local\\Temp\\ipykernel_2604\\3053681913.py:1: SettingWithCopyWarning: \n",
      "A value is trying to be set on a copy of a slice from a DataFrame.\n",
      "Try using .loc[row_indexer,col_indexer] = value instead\n",
      "\n",
      "See the caveats in the documentation: https://pandas.pydata.org/pandas-docs/stable/user_guide/indexing.html#returning-a-view-versus-a-copy\n",
      "  df2['horsepower'] = df2['horsepower'].astype('float')\n",
      "C:\\Users\\Puru\\AppData\\Local\\Temp\\ipykernel_2604\\3053681913.py:14: SettingWithCopyWarning: \n",
      "A value is trying to be set on a copy of a slice from a DataFrame\n",
      "\n",
      "See the caveats in the documentation: https://pandas.pydata.org/pandas-docs/stable/user_guide/indexing.html#returning-a-view-versus-a-copy\n",
      "  df2['horsepower'].iloc[i] = upper_limit_horsepower\n"
     ]
    }
   ],
   "source": [
    "\n",
    "df2['horsepower'] = df2['horsepower'].astype('float')\n",
    "Q1_horsepower = np.percentile(df2['horsepower'] ,25 )\n",
    "Q3_horsepower = np.percentile (df2['horsepower'], 75)\n",
    "IQR_horsepower = Q3_horsepower - Q1_horsepower\n",
    "print (Q1_horsepower, Q3_horsepower , IQR_horsepower)\n",
    "upper_limit_horsepower = Q3_horsepower + 1.5 * IQR_horsepower\n",
    "lower_limit_horsepower = Q1_horsepower - 1.5 *IQR_horsepower\n",
    "print (upper_limit_horsepower , lower_limit_horsepower)\n",
    "\n",
    "outliers_horsepower = {}\n",
    "for i in range (0 , len(df2['horsepower'])):\n",
    "    if df2['horsepower'].iloc[i]>upper_limit_horsepower:\n",
    "        outliers_horsepower[i] = df2['horsepower'].iloc[i]\n",
    "        df2['horsepower'].iloc[i] = upper_limit_horsepower\n",
    "    elif df2['horsepower'].iloc[i]<lower_limit_horsepower:\n",
    "        outliers_horsepower[i] = df2['horsepower'].iloc[i]\n",
    "        df2['horsepower'].iloc[i] = lower_limit_horsepower\n",
    "print(outliers_horsepower)"
   ]
  },
  {
   "cell_type": "code",
   "execution_count": 138,
   "id": "9fcad2eb",
   "metadata": {},
   "outputs": [
    {
     "data": {
      "image/png": "[encoded data removed]",
      "text/plain": [
       "<Figure size 640x480 with 2 Axes>"
      ]
     },
     "metadata": {},
     "output_type": "display_data"
    }
   ],
   "source": [
    "#Drawing the sns correlation matrix for the dataset for mpg, horsepower, weight, displacement, and acceleration variables \n",
    "Correlation_Matrix = df2[['mpg', 'horsepower', 'weight', 'displacement', 'acceleration']].corr()\n",
    "sea.heatmap(Correlation_Matrix , annot= True)\n",
    "plt.show()"
   ]
  },
  {
   "cell_type": "code",
   "execution_count": 139,
   "id": "5c5497ba",
   "metadata": {},
   "outputs": [
    {
     "data": {
      "image/png": "[encoded data removed]",
      "text/plain": [
       "<Figure size 640x480 with 1 Axes>"
      ]
     },
     "metadata": {},
     "output_type": "display_data"
    },
    {
     "name": "stdout",
     "output_type": "stream",
     "text": [
      "Cylin.  Count\n",
      "4    199\n",
      "8    103\n",
      "6     83\n",
      "3      4\n",
      "5      3\n",
      "Name: cylinders, dtype: int64\n"
     ]
    }
   ],
   "source": [
    "#Checking the Outliers by identifying the biggest categories by plotting the histogram  \n",
    "ax = df2['cylinders'].plot.hist()\n",
    "ax.set_ylabel(\"frequecy\")\n",
    "ax.set_xlabel(\"count\")\n",
    "plt.show()\n",
    "print('Cylin.  Count')\n",
    "print(df2['cylinders'].value_counts())\n"
   ]
  },
  {
   "cell_type": "code",
   "execution_count": 140,
   "id": "cf5074bf",
   "metadata": {},
   "outputs": [],
   "source": [
    "#Creating a copy of the data frame as we need to have the previous values to compare is the 3 value assign to 4 and 5 to 6 \n",
    "df3 = df2.copy(deep =True)"
   ]
  },
  {
   "cell_type": "code",
   "execution_count": 141,
   "id": "b2731548",
   "metadata": {},
   "outputs": [
    {
     "name": "stdout",
     "output_type": "stream",
     "text": [
      "{70: 3, 110: 3.0, 241: 3.0, 272: 5.0, 295: 5.0, 325: 5.0, 331: 3.0}\n"
     ]
    },
    {
     "name": "stderr",
     "output_type": "stream",
     "text": [
      "C:\\Users\\Puru\\AppData\\Local\\Temp\\ipykernel_2604\\96648631.py:6: SettingWithCopyWarning: \n",
      "A value is trying to be set on a copy of a slice from a DataFrame\n",
      "\n",
      "See the caveats in the documentation: https://pandas.pydata.org/pandas-docs/stable/user_guide/indexing.html#returning-a-view-versus-a-copy\n",
      "  df3['cylinders'].iloc[i] = np.NaN\n"
     ]
    }
   ],
   "source": [
    "#Printing the indexes for the outliers so that we can verify is the 3 value assign to 4 and 5 to 6 \n",
    "indexes = {}\n",
    "for i in range(0,len(df3['cylinders'])):\n",
    "    if df3['cylinders'].iloc[i] == 3 or df3['cylinders'].iloc[i] == 5:\n",
    "        indexes[i] = df3['cylinders'].iloc[i]\n",
    "        df3['cylinders'].iloc[i] = np.NaN\n",
    "\n",
    "        \n",
    "print(indexes)"
   ]
  },
  {
   "cell_type": "code",
   "execution_count": 142,
   "id": "1a71f782",
   "metadata": {},
   "outputs": [],
   "source": [
    "#Dropping the excess columns as we only need to perform the KNN Imputation on the speciffic data frames \n",
    "df3 = df3.drop(['model_year', 'origin', 'car_name'], axis = 1)\n",
    "df3['cylinders'] =  df3['cylinders'].astype('category')"
   ]
  },
  {
   "cell_type": "code",
   "execution_count": 143,
   "id": "fa35f52e",
   "metadata": {},
   "outputs": [],
   "source": [
    "#Scaling the data as it is good to scale the data prior to performing the KNN Imputation step\n",
    "sc3 = StandardScaler()\n",
    "stan_data2 = sc3.fit_transform(df3)\n",
    "df4 = pd.DataFrame(stan_data2, columns = df3.columns)"
   ]
  },
  {
   "cell_type": "code",
   "execution_count": 144,
   "id": "b46939eb",
   "metadata": {},
   "outputs": [],
   "source": [
    "# Assigining the nan value after the scaling of the dataset\n",
    "keys = list(indexes.keys())\n",
    "for i in range(0,len(keys)):\n",
    "    df4['cylinders'].iloc[keys[i]] = np.NaN"
   ]
  },
  {
   "cell_type": "code",
   "execution_count": 145,
   "id": "d763f143",
   "metadata": {},
   "outputs": [],
   "source": [
    "#Performing the KNN Imputation on the Standardized dataset we will need to keep the neigbors as 1 otherwise it will start giving up\n",
    "# some meaningless average for the required categorical data prediction\n",
    "imp1 = KNNImputer(missing_values= np.nan , n_neighbors=1)\n",
    "imp1_fit = imp1.fit_transform(df4)\n",
    "df5 = pd.DataFrame(imp1_fit, columns = df3.columns)"
   ]
  },
  {
   "cell_type": "code",
   "execution_count": 146,
   "id": "055109e8",
   "metadata": {},
   "outputs": [],
   "source": [
    "#Inverse transforming the dataset in order to check the columns as categorical values \n",
    "df5 = sc3.inverse_transform(df5)\n",
    "df5 = pd.DataFrame(df5, columns = df4.columns)"
   ]
  },
  {
   "cell_type": "code",
   "execution_count": 147,
   "id": "b9e4a9c5",
   "metadata": {},
   "outputs": [
    {
     "data": {
      "text/plain": [
       "CategoricalDtype(categories=[4.0, 6.0, 8.0], ordered=False)"
      ]
     },
     "execution_count": 147,
     "metadata": {},
     "output_type": "execute_result"
    }
   ],
   "source": [
    "#Converting the data type of the column to be as the category\n",
    "df5['cylinders'] =  df5['cylinders'].astype('category')\n",
    "df5['cylinders'].dtype"
   ]
  },
  {
   "cell_type": "code",
   "execution_count": 148,
   "id": "a6e1fa92",
   "metadata": {},
   "outputs": [
    {
     "name": "stdout",
     "output_type": "stream",
     "text": [
      "3    4.0\n",
      "3.0    4.0\n",
      "3.0    4.0\n",
      "5.0    4.0\n",
      "5.0    4.0\n",
      "5.0    6.0\n",
      "3.0    4.0\n"
     ]
    }
   ],
   "source": [
    "#Comparing the previous and the new class of the dataset after the removal of the outliers using the KNN Imputation method \n",
    "keys = list(indexes.keys())\n",
    "for i in range(0,len(keys)):\n",
    "    print(indexes[keys[i]] , '  ',  df5['cylinders'].iloc[keys[i]])"
   ]
  },
  {
   "cell_type": "code",
   "execution_count": 149,
   "id": "71a89082",
   "metadata": {},
   "outputs": [
    {
     "data": {
      "image/png": "[encoded data removed]",
      "text/plain": [
       "<Figure size 500x500 with 1 Axes>"
      ]
     },
     "metadata": {},
     "output_type": "display_data"
    }
   ],
   "source": [
    "#Plotting the scatter plot for Weight vs MPG Column in the presence of the number of cylinders \n",
    "sea.lmplot( x=\"mpg\", y=\"weight\", data=df5, fit_reg=False, hue='cylinders', legend=False)\n",
    "plt.legend(loc='upper right')\n",
    "plt.show()"
   ]
  },
  {
   "cell_type": "code",
   "execution_count": 150,
   "id": "19b0b707",
   "metadata": {},
   "outputs": [
    {
     "name": "stdout",
     "output_type": "stream",
     "text": [
      "392 392\n"
     ]
    }
   ],
   "source": [
    "print(len(df2) , len(df5))"
   ]
  },
  {
   "cell_type": "code",
   "execution_count": 151,
   "id": "68c87cbb",
   "metadata": {},
   "outputs": [
    {
     "name": "stderr",
     "output_type": "stream",
     "text": [
      "C:\\Users\\Puru\\AppData\\Local\\Temp\\ipykernel_2604\\2188101148.py:5: SettingWithCopyWarning: \n",
      "A value is trying to be set on a copy of a slice from a DataFrame\n",
      "\n",
      "See the caveats in the documentation: https://pandas.pydata.org/pandas-docs/stable/user_guide/indexing.html#returning-a-view-versus-a-copy\n",
      "  df2['cylinders'].iloc[i] = df5['cylinders'].iloc[j]\n"
     ]
    }
   ],
   "source": [
    "#Assigning the newly transformed outlier removed value of the cylinder data column to the earlier complete dataset \n",
    "for i in range(0, len(df2['cylinders'])):\n",
    "    for j in range(0, len(df5['cylinders'])):\n",
    "        if i ==j:\n",
    "            df2['cylinders'].iloc[i] = df5['cylinders'].iloc[j]\n",
    "            \n",
    "            \n",
    "        "
   ]
  },
  {
   "cell_type": "code",
   "execution_count": 152,
   "id": "356a3a88",
   "metadata": {},
   "outputs": [
    {
     "data": {
      "image/png": "[encoded data removed]",
      "text/plain": [
       "<Figure size 640x480 with 1 Axes>"
      ]
     },
     "metadata": {},
     "output_type": "display_data"
    },
    {
     "name": "stdout",
     "output_type": "stream",
     "text": [
      "73    40\n",
      "78    36\n",
      "76    34\n",
      "75    30\n",
      "82    30\n",
      "70    29\n",
      "79    29\n",
      "72    28\n",
      "77    28\n",
      "81    28\n",
      "71    27\n",
      "80    27\n",
      "74    26\n",
      "Name: model_year, dtype: int64\n"
     ]
    }
   ],
   "source": [
    "df2['model_year'].plot.hist()\n",
    "plt.show()\n",
    "print(df2['model_year'].value_counts())"
   ]
  },
  {
   "cell_type": "code",
   "execution_count": 153,
   "id": "e0f850e3",
   "metadata": {},
   "outputs": [
    {
     "name": "stderr",
     "output_type": "stream",
     "text": [
      "C:\\Users\\Puru\\AppData\\Local\\Temp\\ipykernel_2604\\329256244.py:2: SettingWithCopyWarning: \n",
      "A value is trying to be set on a copy of a slice from a DataFrame.\n",
      "Try using .loc[row_indexer,col_indexer] = value instead\n",
      "\n",
      "See the caveats in the documentation: https://pandas.pydata.org/pandas-docs/stable/user_guide/indexing.html#returning-a-view-versus-a-copy\n",
      "  df2['model_year'] = pd.to_datetime(df2['model_year'], format = '%y')\n"
     ]
    }
   ],
   "source": [
    "#Converting the model_year to and indexed datetime format \n",
    "df2['model_year'] = pd.to_datetime(df2['model_year'], format = '%y')"
   ]
  },
  {
   "cell_type": "code",
   "execution_count": 154,
   "id": "706db22b",
   "metadata": {},
   "outputs": [
    {
     "name": "stdout",
     "output_type": "stream",
     "text": [
      "0     1970-01-01\n",
      "1     1970-01-01\n",
      "2     1970-01-01\n",
      "3     1970-01-01\n",
      "4     1970-01-01\n",
      "         ...    \n",
      "395   1982-01-01\n",
      "396   1982-01-01\n",
      "397   1982-01-01\n",
      "398   1982-01-01\n",
      "399   1982-01-01\n",
      "Name: model_year, Length: 392, dtype: datetime64[ns]\n",
      "1973-01-01    40\n",
      "1978-01-01    36\n",
      "1976-01-01    34\n",
      "1975-01-01    30\n",
      "1982-01-01    30\n",
      "1970-01-01    29\n",
      "1979-01-01    29\n",
      "1972-01-01    28\n",
      "1977-01-01    28\n",
      "1981-01-01    28\n",
      "1971-01-01    27\n",
      "1980-01-01    27\n",
      "1974-01-01    26\n",
      "Name: model_year, dtype: int64\n"
     ]
    }
   ],
   "source": [
    "print(df2['model_year'])\n",
    "print(df2['model_year'].value_counts())"
   ]
  },
  {
   "cell_type": "code",
   "execution_count": 155,
   "id": "7ab8babe",
   "metadata": {
    "scrolled": true
   },
   "outputs": [
    {
     "data": {
      "text/plain": [
       "<AxesSubplot: >"
      ]
     },
     "execution_count": 155,
     "metadata": {},
     "output_type": "execute_result"
    },
    {
     "data": {
      "image/png": "[encoded data removed]",
      "text/plain": [
       "<Figure size 640x480 with 1 Axes>"
      ]
     },
     "metadata": {},
     "output_type": "display_data"
    }
   ],
   "source": [
    "df2['model_year'].hist()"
   ]
  },
  {
   "cell_type": "code",
   "execution_count": 156,
   "id": "9fc1a117",
   "metadata": {},
   "outputs": [
    {
     "name": "stderr",
     "output_type": "stream",
     "text": [
      "C:\\Users\\Puru\\AppData\\Local\\Temp\\ipykernel_2604\\2397951838.py:1: SettingWithCopyWarning: \n",
      "A value is trying to be set on a copy of a slice from a DataFrame.\n",
      "Try using .loc[row_indexer,col_indexer] = value instead\n",
      "\n",
      "See the caveats in the documentation: https://pandas.pydata.org/pandas-docs/stable/user_guide/indexing.html#returning-a-view-versus-a-copy\n",
      "  df2['year_class'] = pd.NA\n"
     ]
    }
   ],
   "source": [
    "df2['year_class'] = pd.NA"
   ]
  },
  {
   "cell_type": "code",
   "execution_count": 157,
   "id": "fa068e37",
   "metadata": {},
   "outputs": [
    {
     "data": {
      "text/plain": [
       "1973-01-01    40\n",
       "1978-01-01    36\n",
       "1976-01-01    34\n",
       "1975-01-01    30\n",
       "1982-01-01    30\n",
       "1970-01-01    29\n",
       "1979-01-01    29\n",
       "1972-01-01    28\n",
       "1977-01-01    28\n",
       "1981-01-01    28\n",
       "1971-01-01    27\n",
       "1980-01-01    27\n",
       "1974-01-01    26\n",
       "Name: model_year, dtype: int64"
      ]
     },
     "execution_count": 157,
     "metadata": {},
     "output_type": "execute_result"
    }
   ],
   "source": [
    "df2['model_year'].value_counts()"
   ]
  },
  {
   "cell_type": "code",
   "execution_count": 158,
   "id": "64a60701",
   "metadata": {},
   "outputs": [
    {
     "name": "stderr",
     "output_type": "stream",
     "text": [
      "C:\\Users\\Puru\\AppData\\Local\\Temp\\ipykernel_2604\\2913751010.py:4: SettingWithCopyWarning: \n",
      "A value is trying to be set on a copy of a slice from a DataFrame\n",
      "\n",
      "See the caveats in the documentation: https://pandas.pydata.org/pandas-docs/stable/user_guide/indexing.html#returning-a-view-versus-a-copy\n",
      "  df2['year_class'].iloc[:124] = 'Class A'\n",
      "C:\\Users\\Puru\\AppData\\Local\\Temp\\ipykernel_2604\\2913751010.py:5: SettingWithCopyWarning: \n",
      "A value is trying to be set on a copy of a slice from a DataFrame\n",
      "\n",
      "See the caveats in the documentation: https://pandas.pydata.org/pandas-docs/stable/user_guide/indexing.html#returning-a-view-versus-a-copy\n",
      "  df2['year_class'].iloc[124:242] = 'Class B'\n",
      "C:\\Users\\Puru\\AppData\\Local\\Temp\\ipykernel_2604\\2913751010.py:6: SettingWithCopyWarning: \n",
      "A value is trying to be set on a copy of a slice from a DataFrame\n",
      "\n",
      "See the caveats in the documentation: https://pandas.pydata.org/pandas-docs/stable/user_guide/indexing.html#returning-a-view-versus-a-copy\n",
      "  df2['year_class'].iloc[242:] = 'Class C'\n"
     ]
    }
   ],
   "source": [
    "#Assiging the different classes based on the the interval we have divided them into  we can \n",
    "#also call in the .resample function for the same but as in this dataset the data is in date \n",
    "#sorted format hence this would also work based on indexes \n",
    "df2['year_class'].iloc[:124] = 'Class A'\n",
    "df2['year_class'].iloc[124:242] = 'Class B'\n",
    "df2['year_class'].iloc[242:] = 'Class C'\n"
   ]
  },
  {
   "cell_type": "code",
   "execution_count": 159,
   "id": "87505f05",
   "metadata": {},
   "outputs": [
    {
     "name": "stdout",
     "output_type": "stream",
     "text": [
      "Class C    150\n",
      "Class A    124\n",
      "Class B    118\n",
      "Name: year_class, dtype: int64\n"
     ]
    }
   ],
   "source": [
    "print(df2['year_class'].value_counts())"
   ]
  },
  {
   "cell_type": "code",
   "execution_count": 160,
   "id": "0aa87d8b",
   "metadata": {},
   "outputs": [
    {
     "name": "stderr",
     "output_type": "stream",
     "text": [
      "C:\\Users\\Puru\\AppData\\Local\\Temp\\ipykernel_2604\\3565944171.py:2: SettingWithCopyWarning: \n",
      "A value is trying to be set on a copy of a slice from a DataFrame.\n",
      "Try using .loc[row_indexer,col_indexer] = value instead\n",
      "\n",
      "See the caveats in the documentation: https://pandas.pydata.org/pandas-docs/stable/user_guide/indexing.html#returning-a-view-versus-a-copy\n",
      "  df2['year_class'] = df2['year_class'].astype('category')\n"
     ]
    }
   ],
   "source": [
    "#Switching the datatype of the column year_class to category\n",
    "df2['year_class'] = df2['year_class'].astype('category')"
   ]
  },
  {
   "cell_type": "code",
   "execution_count": 161,
   "id": "3e3691b7",
   "metadata": {},
   "outputs": [
    {
     "data": {
      "text/plain": [
       "Text(0.5, 0.98, 'Boxplot for MPG')"
      ]
     },
     "execution_count": 161,
     "metadata": {},
     "output_type": "execute_result"
    },
    {
     "data": {
      "image/png": "[encoded data removed]",
      "text/plain": [
       "<Figure size 640x480 with 1 Axes>"
      ]
     },
     "metadata": {},
     "output_type": "display_data"
    }
   ],
   "source": [
    "# Plotting the boxplot for viewing the change in MPG as the median has increased with each class suggesting that the mpg has \n",
    "# improved over the years.\n",
    "\n",
    "props = dict(boxes=\"Green\", whiskers=\"Orange\", medians=\"Blue\", caps=\"Gray\")\n",
    "bp = df2.boxplot(column = 'mpg', by='year_class' , vert = False , color=props, patch_artist=True )\n",
    "plt.suptitle(\"Boxplot for MPG\")"
   ]
  },
  {
   "cell_type": "code",
   "execution_count": 162,
   "id": "14f191a2",
   "metadata": {},
   "outputs": [
    {
     "data": {
      "text/plain": [
       "Text(0, 0.5, 'year_class')"
      ]
     },
     "execution_count": 162,
     "metadata": {},
     "output_type": "execute_result"
    },
    {
     "data": {
      "image/png": "[encoded data removed]",
      "text/plain": [
       "<Figure size 640x480 with 1 Axes>"
      ]
     },
     "metadata": {},
     "output_type": "display_data"
    }
   ],
   "source": [
    "#analyse mpg improvements over the three time groups we have created.\n",
    "plt.scatter(df2['mpg'] , df2['year_class'] )\n",
    "plt.xlabel('mpg')\n",
    "plt.ylabel('year_class')"
   ]
  },
  {
   "cell_type": "code",
   "execution_count": 163,
   "id": "88f28d1c",
   "metadata": {},
   "outputs": [
    {
     "name": "stderr",
     "output_type": "stream",
     "text": [
      "C:\\Users\\Puru\\AppData\\Local\\Temp\\ipykernel_2604\\2380676102.py:4: SettingWithCopyWarning: \n",
      "A value is trying to be set on a copy of a slice from a DataFrame\n",
      "\n",
      "See the caveats in the documentation: https://pandas.pydata.org/pandas-docs/stable/user_guide/indexing.html#returning-a-view-versus-a-copy\n",
      "  df2['origin'].iloc[i] = 'Europe'\n",
      "C:\\Users\\Puru\\AppData\\Local\\Temp\\ipykernel_2604\\2380676102.py:8: SettingWithCopyWarning: \n",
      "A value is trying to be set on a copy of a slice from a DataFrame\n",
      "\n",
      "See the caveats in the documentation: https://pandas.pydata.org/pandas-docs/stable/user_guide/indexing.html#returning-a-view-versus-a-copy\n",
      "  df2['origin'].iloc[i] = 'Japan'\n",
      "C:\\Users\\Puru\\AppData\\Local\\Temp\\ipykernel_2604\\2380676102.py:6: SettingWithCopyWarning: \n",
      "A value is trying to be set on a copy of a slice from a DataFrame\n",
      "\n",
      "See the caveats in the documentation: https://pandas.pydata.org/pandas-docs/stable/user_guide/indexing.html#returning-a-view-versus-a-copy\n",
      "  df2['origin'].iloc[i] = 'USA'\n"
     ]
    }
   ],
   "source": [
    "#Assigining different regions based on the code \n",
    "for i in range(0, len(df2)):\n",
    "    if df2['origin'].iloc[i] == 1 :\n",
    "        df2['origin'].iloc[i] = 'Europe'\n",
    "    elif df2['origin'].iloc[i] == 2 :\n",
    "        df2['origin'].iloc[i] = 'USA'\n",
    "    elif df2['origin'].iloc[i] == 3 :\n",
    "        df2['origin'].iloc[i] = 'Japan'"
   ]
  },
  {
   "cell_type": "code",
   "execution_count": 164,
   "id": "7cd693aa",
   "metadata": {},
   "outputs": [
    {
     "name": "stderr",
     "output_type": "stream",
     "text": [
      "C:\\Users\\Puru\\AppData\\Local\\Temp\\ipykernel_2604\\1956420634.py:2: SettingWithCopyWarning: \n",
      "A value is trying to be set on a copy of a slice from a DataFrame.\n",
      "Try using .loc[row_indexer,col_indexer] = value instead\n",
      "\n",
      "See the caveats in the documentation: https://pandas.pydata.org/pandas-docs/stable/user_guide/indexing.html#returning-a-view-versus-a-copy\n",
      "  df2['origin'] = df2['origin'].astype('category')\n"
     ]
    },
    {
     "data": {
      "text/plain": [
       "CategoricalDtype(categories=['Europe', 'Japan', 'USA'], ordered=False)"
      ]
     },
     "execution_count": 164,
     "metadata": {},
     "output_type": "execute_result"
    }
   ],
   "source": [
    "#Chainging the datatype of the origin column as Catergorical \n",
    "df2['origin'] = df2['origin'].astype('category')\n",
    "df2['origin'].dtype"
   ]
  },
  {
   "cell_type": "code",
   "execution_count": 165,
   "id": "b63aa2e3",
   "metadata": {},
   "outputs": [
    {
     "data": {
      "text/plain": [
       "Text(0.5, 0.98, 'Boxplot for MPG')"
      ]
     },
     "execution_count": 165,
     "metadata": {},
     "output_type": "execute_result"
    },
    {
     "data": {
      "image/png": "[encoded data removed]",
      "text/plain": [
       "<Figure size 640x480 with 1 Axes>"
      ]
     },
     "metadata": {},
     "output_type": "display_data"
    }
   ],
   "source": [
    "#Plotting the boxplots for the MPG based on origin  \n",
    "props = dict(boxes=\"Green\", whiskers=\"Orange\", medians=\"Blue\", caps=\"Gray\")\n",
    "bp = df2.boxplot(column = 'mpg', by='origin' , vert = False , color=props, patch_artist=True )\n",
    "plt.suptitle(\"Boxplot for MPG\")"
   ]
  },
  {
   "cell_type": "code",
   "execution_count": 166,
   "id": "b1913153",
   "metadata": {},
   "outputs": [
    {
     "name": "stderr",
     "output_type": "stream",
     "text": [
      "C:\\Users\\Puru\\AppData\\Local\\Temp\\ipykernel_2604\\345374671.py:3: SettingWithCopyWarning: \n",
      "A value is trying to be set on a copy of a slice from a DataFrame.\n",
      "Try using .loc[row_indexer,col_indexer] = value instead\n",
      "\n",
      "See the caveats in the documentation: https://pandas.pydata.org/pandas-docs/stable/user_guide/indexing.html#returning-a-view-versus-a-copy\n",
      "  df2['Brand'] = df2['car_name'].str.extract('^([\\w\\-]+)', expand=True)\n"
     ]
    }
   ],
   "source": [
    "#Forming a new column in the dataframe named brand and put the first string from the car_name columns into this column with the \n",
    "# help of Regular Expressions\n",
    "df2['Brand'] = df2['car_name'].str.extract('^([\\w\\-]+)', expand=True) "
   ]
  },
  {
   "cell_type": "code",
   "execution_count": 167,
   "id": "47f5cc51",
   "metadata": {},
   "outputs": [
    {
     "name": "stdout",
     "output_type": "stream",
     "text": [
      "chevrolet\n",
      "buick\n",
      "plymouth\n",
      "amc\n",
      "ford\n",
      "ford\n",
      "chevrolet\n",
      "plymouth\n",
      "pontiac\n",
      "amc\n",
      "dodge\n",
      "plymouth\n",
      "chevrolet\n",
      "buick\n",
      "toyota\n",
      "plymouth\n",
      "amc\n",
      "ford\n",
      "datsun\n",
      "volkswagen\n",
      "peugeot\n",
      "audi\n",
      "saab\n",
      "bmw\n",
      "amc\n",
      "ford\n",
      "chevy\n",
      "dodge\n",
      "hi\n",
      "datsun\n",
      "chevrolet\n",
      "toyota\n",
      "amc\n",
      "plymouth\n",
      "chevrolet\n",
      "ford\n",
      "amc\n",
      "chevrolet\n",
      "pontiac\n",
      "ford\n",
      "plymouth\n",
      "dodge\n",
      "ford\n",
      "pontiac\n",
      "amc\n",
      "chevrolet\n",
      "pontiac\n",
      "ford\n",
      "mercury\n",
      "opel\n",
      "peugeot\n",
      "fiat\n",
      "toyota\n",
      "datsun\n",
      "volkswagen\n",
      "plymouth\n",
      "toyota\n",
      "dodge\n",
      "volkswagen\n",
      "chevrolet\n",
      "ford\n",
      "chevrolet\n",
      "pontiac\n",
      "plymouth\n",
      "ford\n",
      "amc\n",
      "mercury\n",
      "buick\n",
      "oldsmobile\n",
      "chrysler\n",
      "mazda\n",
      "amc\n",
      "chevrolet\n",
      "ford\n",
      "plymouth\n",
      "volvo\n",
      "volkswagen\n",
      "peugeot\n",
      "renault\n",
      "ford\n",
      "datsun\n",
      "toyouta\n",
      "dodge\n",
      "toyota\n",
      "buick\n",
      "amc\n",
      "chevrolet\n",
      "ford\n",
      "dodge\n",
      "mercury\n",
      "chevrolet\n",
      "ford\n",
      "plymouth\n",
      "chrysler\n",
      "buick\n",
      "amc\n",
      "plymouth\n",
      "chevrolet\n",
      "amc\n",
      "ford\n",
      "plymouth\n",
      "volkswagen\n",
      "chevrolet\n",
      "ford\n",
      "plymouth\n",
      "oldsmobile\n",
      "amc\n",
      "toyota\n",
      "chevrolet\n",
      "datsun\n",
      "maxda\n",
      "ford\n",
      "mercury\n",
      "fiat\n",
      "chevrolet\n",
      "pontiac\n",
      "fiat\n",
      "opel\n",
      "audi\n",
      "volvo\n",
      "dodge\n",
      "saab\n",
      "toyota\n",
      "oldsmobile\n",
      "plymouth\n",
      "amc\n",
      "chevrolet\n",
      "datsun\n",
      "ford\n",
      "toyota\n",
      "chevrolet\n",
      "chevrolet\n",
      "amc\n",
      "plymouth\n",
      "ford\n",
      "buick\n",
      "dodge\n",
      "ford\n",
      "amc\n",
      "audi\n",
      "volkswagen\n",
      "opel\n",
      "toyota\n",
      "datsun\n",
      "dodge\n",
      "fiat\n",
      "fiat\n",
      "honda\n",
      "subaru\n",
      "fiat\n",
      "plymouth\n",
      "chevrolet\n",
      "mercury\n",
      "ford\n",
      "pontiac\n",
      "chevrolet\n",
      "plymouth\n",
      "ford\n",
      "buick\n",
      "chevroelt\n",
      "amc\n",
      "plymouth\n",
      "buick\n",
      "chevrolet\n",
      "ford\n",
      "toyota\n",
      "ford\n",
      "amc\n",
      "pontiac\n",
      "toyota\n",
      "volkswagen\n",
      "datsun\n",
      "ford\n",
      "volkswagen\n",
      "amc\n",
      "audi\n",
      "peugeot\n",
      "volvo\n",
      "saab\n",
      "honda\n",
      "fiat\n",
      "opel\n",
      "capri\n",
      "dodge\n",
      "renault\n",
      "chevrolet\n",
      "dodge\n",
      "amc\n",
      "ford\n",
      "plymouth\n",
      "chevrolet\n",
      "ford\n",
      "amc\n",
      "chevrolet\n",
      "chevrolet\n",
      "vw\n",
      "honda\n",
      "dodge\n",
      "ford\n",
      "pontiac\n",
      "amc\n",
      "volkswagen\n",
      "datsun\n",
      "toyota\n",
      "ford\n",
      "volvo\n",
      "plymouth\n",
      "peugeot\n",
      "toyota\n",
      "mercedes-benz\n",
      "cadillac\n",
      "chevy\n",
      "ford\n",
      "dodge\n",
      "honda\n",
      "buick\n",
      "renault\n",
      "plymouth\n",
      "datsun\n",
      "chevrolet\n",
      "oldsmobile\n",
      "dodge\n",
      "mercury\n",
      "chevrolet\n",
      "buick\n",
      "plymouth\n",
      "ford\n",
      "pontiac\n",
      "chevrolet\n",
      "chrysler\n",
      "ford\n",
      "volkswagen\n",
      "pontiac\n",
      "toyota\n",
      "ford\n",
      "chevrolet\n",
      "dodge\n",
      "subaru\n",
      "volkswagen\n",
      "datsun\n",
      "bmw\n",
      "mazda\n",
      "volkswagen\n",
      "ford\n",
      "mazda\n",
      "datsun\n",
      "honda\n",
      "oldsmobile\n",
      "dodge\n",
      "mercury\n",
      "pontiac\n",
      "chevrolet\n",
      "ford\n",
      "ford\n",
      "plymouth\n",
      "amc\n",
      "buick\n",
      "mercury\n",
      "dodge\n",
      "amc\n",
      "chevrolet\n",
      "buick\n",
      "ford\n",
      "dodge\n",
      "chevrolet\n",
      "toyota\n",
      "datsun\n",
      "dodge\n",
      "toyota\n",
      "plymouth\n",
      "oldsmobile\n",
      "datsun\n",
      "audi\n",
      "volvo\n",
      "saab\n",
      "peugeot\n",
      "volkswagen\n",
      "honda\n",
      "pontiac\n",
      "mercury\n",
      "ford\n",
      "amc\n",
      "dodge\n",
      "chevrolet\n",
      "ford\n",
      "mercury\n",
      "dodge\n",
      "buick\n",
      "ford\n",
      "chevrolet\n",
      "chrysler\n",
      "vw\n",
      "maxda\n",
      "dodge\n",
      "amc\n",
      "mercedes\n",
      "cadillac\n",
      "peugeot\n",
      "oldsmobile\n",
      "plymouth\n",
      "plymouth\n",
      "datsun\n",
      "fiat\n",
      "buick\n",
      "chevrolet\n",
      "oldsmobile\n",
      "pontiac\n",
      "vw\n",
      "toyota\n",
      "chevrolet\n",
      "datsun\n",
      "chevrolet\n",
      "ford\n",
      "amc\n",
      "dodge\n",
      "audi\n",
      "toyota\n",
      "mazda\n",
      "datsun\n",
      "toyota\n",
      "mazda\n",
      "dodge\n",
      "datsun\n",
      "vw\n",
      "vw\n",
      "audi\n",
      "mercedes-benz\n",
      "honda\n",
      "subaru\n",
      "vokswagen\n",
      "datsun\n",
      "mazda\n",
      "triumph\n",
      "honda\n",
      "plymouth\n",
      "buick\n",
      "dodge\n",
      "chevrolet\n",
      "plymouth\n",
      "toyota\n",
      "plymouth\n",
      "honda\n",
      "subaru\n",
      "datsun\n",
      "toyota\n",
      "mazda\n",
      "plymouth\n",
      "ford\n",
      "ford\n",
      "volkswagen\n",
      "honda\n",
      "toyota\n",
      "datsun\n",
      "mazda\n",
      "peugeot\n",
      "volvo\n",
      "toyota\n",
      "datsun\n",
      "buick\n",
      "oldsmobile\n",
      "ford\n",
      "chrysler\n",
      "chevrolet\n",
      "chevrolet\n",
      "chevrolet\n",
      "pontiac\n",
      "dodge\n",
      "pontiac\n",
      "ford\n",
      "volkswagen\n",
      "mazda\n",
      "mazda\n",
      "plymouth\n",
      "mercury\n",
      "nissan\n",
      "honda\n",
      "toyota\n",
      "honda\n",
      "honda\n",
      "datsun\n",
      "buick\n",
      "oldsmobile\n",
      "chrysler\n",
      "ford\n",
      "toyota\n",
      "dodge\n",
      "chevrolet\n",
      "ford\n",
      "vw\n",
      "dodge\n",
      "ford\n",
      "chevy\n"
     ]
    }
   ],
   "source": [
    "#For Analyzing the Car Brand names \n",
    "for i in range(0,len(df2)):\n",
    "    print(df2['Brand'].iloc[i])"
   ]
  },
  {
   "cell_type": "code",
   "execution_count": 168,
   "id": "1494556b",
   "metadata": {},
   "outputs": [
    {
     "name": "stdout",
     "output_type": "stream",
     "text": [
      "Total number of corrections made are - 16\n",
      "The indexes and the prior notations are {26: 'chevy', 81: 'toyouta', 110: 'maxda', 159: 'chevroelt', 195: 'vw', 209: 'mercedes-benz', 211: 'chevy', 291: 'vw', 292: 'maxda', 307: 'vw', 323: 'vw', 324: 'vw', 326: 'mercedes-benz', 329: 'vokswagen', 388: 'vw', 391: 'chevy'}\n"
     ]
    },
    {
     "name": "stderr",
     "output_type": "stream",
     "text": [
      "C:\\Users\\Puru\\AppData\\Local\\Temp\\ipykernel_2604\\708190173.py:12: SettingWithCopyWarning: \n",
      "A value is trying to be set on a copy of a slice from a DataFrame\n",
      "\n",
      "See the caveats in the documentation: https://pandas.pydata.org/pandas-docs/stable/user_guide/indexing.html#returning-a-view-versus-a-copy\n",
      "  df2['Brand'].iloc[i] ='chevrolet'\n",
      "C:\\Users\\Puru\\AppData\\Local\\Temp\\ipykernel_2604\\708190173.py:20: SettingWithCopyWarning: \n",
      "A value is trying to be set on a copy of a slice from a DataFrame\n",
      "\n",
      "See the caveats in the documentation: https://pandas.pydata.org/pandas-docs/stable/user_guide/indexing.html#returning-a-view-versus-a-copy\n",
      "  df2['Brand'].iloc[i] ='toyota'\n",
      "C:\\Users\\Puru\\AppData\\Local\\Temp\\ipykernel_2604\\708190173.py:16: SettingWithCopyWarning: \n",
      "A value is trying to be set on a copy of a slice from a DataFrame\n",
      "\n",
      "See the caveats in the documentation: https://pandas.pydata.org/pandas-docs/stable/user_guide/indexing.html#returning-a-view-versus-a-copy\n",
      "  df2['Brand'].iloc[i] ='mazda'\n",
      "C:\\Users\\Puru\\AppData\\Local\\Temp\\ipykernel_2604\\708190173.py:24: SettingWithCopyWarning: \n",
      "A value is trying to be set on a copy of a slice from a DataFrame\n",
      "\n",
      "See the caveats in the documentation: https://pandas.pydata.org/pandas-docs/stable/user_guide/indexing.html#returning-a-view-versus-a-copy\n",
      "  df2['Brand'].iloc[i] ='chevrolet'\n",
      "C:\\Users\\Puru\\AppData\\Local\\Temp\\ipykernel_2604\\708190173.py:8: SettingWithCopyWarning: \n",
      "A value is trying to be set on a copy of a slice from a DataFrame\n",
      "\n",
      "See the caveats in the documentation: https://pandas.pydata.org/pandas-docs/stable/user_guide/indexing.html#returning-a-view-versus-a-copy\n",
      "  df2['Brand'].iloc[i] ='volkswagen'\n",
      "C:\\Users\\Puru\\AppData\\Local\\Temp\\ipykernel_2604\\708190173.py:32: SettingWithCopyWarning: \n",
      "A value is trying to be set on a copy of a slice from a DataFrame\n",
      "\n",
      "See the caveats in the documentation: https://pandas.pydata.org/pandas-docs/stable/user_guide/indexing.html#returning-a-view-versus-a-copy\n",
      "  df2['Brand'].iloc[i] ='mercedes'\n",
      "C:\\Users\\Puru\\AppData\\Local\\Temp\\ipykernel_2604\\708190173.py:28: SettingWithCopyWarning: \n",
      "A value is trying to be set on a copy of a slice from a DataFrame\n",
      "\n",
      "See the caveats in the documentation: https://pandas.pydata.org/pandas-docs/stable/user_guide/indexing.html#returning-a-view-versus-a-copy\n",
      "  df2['Brand'].iloc[i] ='volkswagen'\n"
     ]
    }
   ],
   "source": [
    "#Correcting the brand names for short forms and typos also counting each occurrence using the count keyword to record the number\n",
    "# of times I have made overall correction in the entire dataframe\n",
    "corrections = {}\n",
    "count = 0 \n",
    "for i in range(0,len(df2)):\n",
    "    if df2['Brand'].iloc[i] == 'vw':\n",
    "        corrections[i] = df2['Brand'].iloc[i]\n",
    "        df2['Brand'].iloc[i] ='volkswagen'\n",
    "        count = count+1\n",
    "    elif df2['Brand'].iloc[i] == 'chevy':\n",
    "        corrections[i] = df2['Brand'].iloc[i]\n",
    "        df2['Brand'].iloc[i] ='chevrolet'\n",
    "        count = count+1\n",
    "    elif df2['Brand'].iloc[i] == 'maxda':\n",
    "        corrections[i] = df2['Brand'].iloc[i]\n",
    "        df2['Brand'].iloc[i] ='mazda'\n",
    "        count = count+1\n",
    "    elif df2['Brand'].iloc[i] == 'toyouta':\n",
    "        corrections[i] = df2['Brand'].iloc[i]\n",
    "        df2['Brand'].iloc[i] ='toyota'\n",
    "        count = count+1\n",
    "    elif df2['Brand'].iloc[i] == 'chevroelt':\n",
    "        corrections[i] = df2['Brand'].iloc[i]\n",
    "        df2['Brand'].iloc[i] ='chevrolet'\n",
    "        count = count+1        \n",
    "    elif df2['Brand'].iloc[i] == 'vokswagen':\n",
    "        corrections[i] = df2['Brand'].iloc[i]\n",
    "        df2['Brand'].iloc[i] ='volkswagen'\n",
    "        count = count+1       \n",
    "    elif df2['Brand'].iloc[i] == 'mercedes-benz':\n",
    "        corrections[i] = df2['Brand'].iloc[i]\n",
    "        df2['Brand'].iloc[i] ='mercedes'\n",
    "        count = count+1  \n",
    "        \n",
    "print('Total number of corrections made are -', count) \n",
    "print ('The indexes and the prior notations are', corrections)"
   ]
  },
  {
   "cell_type": "code",
   "execution_count": 169,
   "id": "118f63f4",
   "metadata": {},
   "outputs": [
    {
     "data": {
      "text/plain": [
       "ford          48\n",
       "chevrolet     47\n",
       "plymouth      31\n",
       "dodge         28\n",
       "amc           27\n",
       "toyota        26\n",
       "datsun        23\n",
       "volkswagen    22\n",
       "buick         17\n",
       "pontiac       16\n",
       "honda         13\n",
       "mazda         12\n",
       "mercury       11\n",
       "oldsmobile    10\n",
       "fiat           8\n",
       "peugeot        8\n",
       "audi           7\n",
       "volvo          6\n",
       "chrysler       6\n",
       "saab           4\n",
       "opel           4\n",
       "subaru         4\n",
       "mercedes       3\n",
       "renault        3\n",
       "cadillac       2\n",
       "bmw            2\n",
       "capri          1\n",
       "hi             1\n",
       "triumph        1\n",
       "nissan         1\n",
       "Name: Brand, dtype: int64"
      ]
     },
     "execution_count": 169,
     "metadata": {},
     "output_type": "execute_result"
    }
   ],
   "source": [
    "#Rechecking the  brand column division using the value_counts function\n",
    "df2['Brand'].value_counts()"
   ]
  },
  {
   "cell_type": "code",
   "execution_count": 170,
   "id": "7ada5966",
   "metadata": {},
   "outputs": [
    {
     "name": "stderr",
     "output_type": "stream",
     "text": [
      "C:\\Users\\Puru\\AppData\\Local\\Temp\\ipykernel_2604\\3731949047.py:4: SettingWithCopyWarning: \n",
      "A value is trying to be set on a copy of a slice from a DataFrame\n",
      "\n",
      "See the caveats in the documentation: https://pandas.pydata.org/pandas-docs/stable/user_guide/indexing.html#returning-a-view-versus-a-copy\n",
      "  df2['Brand'].iloc[i] = 'Other'\n",
      "C:\\Users\\Puru\\AppData\\Local\\Temp\\ipykernel_2604\\3731949047.py:4: SettingWithCopyWarning: \n",
      "A value is trying to be set on a copy of a slice from a DataFrame\n",
      "\n",
      "See the caveats in the documentation: https://pandas.pydata.org/pandas-docs/stable/user_guide/indexing.html#returning-a-view-versus-a-copy\n",
      "  df2['Brand'].iloc[i] = 'Other'\n",
      "C:\\Users\\Puru\\AppData\\Local\\Temp\\ipykernel_2604\\3731949047.py:4: SettingWithCopyWarning: \n",
      "A value is trying to be set on a copy of a slice from a DataFrame\n",
      "\n",
      "See the caveats in the documentation: https://pandas.pydata.org/pandas-docs/stable/user_guide/indexing.html#returning-a-view-versus-a-copy\n",
      "  df2['Brand'].iloc[i] = 'Other'\n",
      "C:\\Users\\Puru\\AppData\\Local\\Temp\\ipykernel_2604\\3731949047.py:4: SettingWithCopyWarning: \n",
      "A value is trying to be set on a copy of a slice from a DataFrame\n",
      "\n",
      "See the caveats in the documentation: https://pandas.pydata.org/pandas-docs/stable/user_guide/indexing.html#returning-a-view-versus-a-copy\n",
      "  df2['Brand'].iloc[i] = 'Other'\n",
      "C:\\Users\\Puru\\AppData\\Local\\Temp\\ipykernel_2604\\3731949047.py:4: SettingWithCopyWarning: \n",
      "A value is trying to be set on a copy of a slice from a DataFrame\n",
      "\n",
      "See the caveats in the documentation: https://pandas.pydata.org/pandas-docs/stable/user_guide/indexing.html#returning-a-view-versus-a-copy\n",
      "  df2['Brand'].iloc[i] = 'Other'\n",
      "C:\\Users\\Puru\\AppData\\Local\\Temp\\ipykernel_2604\\3731949047.py:4: SettingWithCopyWarning: \n",
      "A value is trying to be set on a copy of a slice from a DataFrame\n",
      "\n",
      "See the caveats in the documentation: https://pandas.pydata.org/pandas-docs/stable/user_guide/indexing.html#returning-a-view-versus-a-copy\n",
      "  df2['Brand'].iloc[i] = 'Other'\n",
      "C:\\Users\\Puru\\AppData\\Local\\Temp\\ipykernel_2604\\3731949047.py:4: SettingWithCopyWarning: \n",
      "A value is trying to be set on a copy of a slice from a DataFrame\n",
      "\n",
      "See the caveats in the documentation: https://pandas.pydata.org/pandas-docs/stable/user_guide/indexing.html#returning-a-view-versus-a-copy\n",
      "  df2['Brand'].iloc[i] = 'Other'\n",
      "C:\\Users\\Puru\\AppData\\Local\\Temp\\ipykernel_2604\\3731949047.py:4: SettingWithCopyWarning: \n",
      "A value is trying to be set on a copy of a slice from a DataFrame\n",
      "\n",
      "See the caveats in the documentation: https://pandas.pydata.org/pandas-docs/stable/user_guide/indexing.html#returning-a-view-versus-a-copy\n",
      "  df2['Brand'].iloc[i] = 'Other'\n",
      "C:\\Users\\Puru\\AppData\\Local\\Temp\\ipykernel_2604\\3731949047.py:4: SettingWithCopyWarning: \n",
      "A value is trying to be set on a copy of a slice from a DataFrame\n",
      "\n",
      "See the caveats in the documentation: https://pandas.pydata.org/pandas-docs/stable/user_guide/indexing.html#returning-a-view-versus-a-copy\n",
      "  df2['Brand'].iloc[i] = 'Other'\n",
      "C:\\Users\\Puru\\AppData\\Local\\Temp\\ipykernel_2604\\3731949047.py:4: SettingWithCopyWarning: \n",
      "A value is trying to be set on a copy of a slice from a DataFrame\n",
      "\n",
      "See the caveats in the documentation: https://pandas.pydata.org/pandas-docs/stable/user_guide/indexing.html#returning-a-view-versus-a-copy\n",
      "  df2['Brand'].iloc[i] = 'Other'\n",
      "C:\\Users\\Puru\\AppData\\Local\\Temp\\ipykernel_2604\\3731949047.py:4: SettingWithCopyWarning: \n",
      "A value is trying to be set on a copy of a slice from a DataFrame\n",
      "\n",
      "See the caveats in the documentation: https://pandas.pydata.org/pandas-docs/stable/user_guide/indexing.html#returning-a-view-versus-a-copy\n",
      "  df2['Brand'].iloc[i] = 'Other'\n",
      "C:\\Users\\Puru\\AppData\\Local\\Temp\\ipykernel_2604\\3731949047.py:4: SettingWithCopyWarning: \n",
      "A value is trying to be set on a copy of a slice from a DataFrame\n",
      "\n",
      "See the caveats in the documentation: https://pandas.pydata.org/pandas-docs/stable/user_guide/indexing.html#returning-a-view-versus-a-copy\n",
      "  df2['Brand'].iloc[i] = 'Other'\n",
      "C:\\Users\\Puru\\AppData\\Local\\Temp\\ipykernel_2604\\3731949047.py:4: SettingWithCopyWarning: \n",
      "A value is trying to be set on a copy of a slice from a DataFrame\n",
      "\n",
      "See the caveats in the documentation: https://pandas.pydata.org/pandas-docs/stable/user_guide/indexing.html#returning-a-view-versus-a-copy\n",
      "  df2['Brand'].iloc[i] = 'Other'\n",
      "C:\\Users\\Puru\\AppData\\Local\\Temp\\ipykernel_2604\\3731949047.py:4: SettingWithCopyWarning: \n",
      "A value is trying to be set on a copy of a slice from a DataFrame\n",
      "\n",
      "See the caveats in the documentation: https://pandas.pydata.org/pandas-docs/stable/user_guide/indexing.html#returning-a-view-versus-a-copy\n",
      "  df2['Brand'].iloc[i] = 'Other'\n",
      "C:\\Users\\Puru\\AppData\\Local\\Temp\\ipykernel_2604\\3731949047.py:4: SettingWithCopyWarning: \n",
      "A value is trying to be set on a copy of a slice from a DataFrame\n",
      "\n",
      "See the caveats in the documentation: https://pandas.pydata.org/pandas-docs/stable/user_guide/indexing.html#returning-a-view-versus-a-copy\n",
      "  df2['Brand'].iloc[i] = 'Other'\n",
      "C:\\Users\\Puru\\AppData\\Local\\Temp\\ipykernel_2604\\3731949047.py:4: SettingWithCopyWarning: \n",
      "A value is trying to be set on a copy of a slice from a DataFrame\n",
      "\n",
      "See the caveats in the documentation: https://pandas.pydata.org/pandas-docs/stable/user_guide/indexing.html#returning-a-view-versus-a-copy\n",
      "  df2['Brand'].iloc[i] = 'Other'\n",
      "C:\\Users\\Puru\\AppData\\Local\\Temp\\ipykernel_2604\\3731949047.py:4: SettingWithCopyWarning: \n",
      "A value is trying to be set on a copy of a slice from a DataFrame\n",
      "\n",
      "See the caveats in the documentation: https://pandas.pydata.org/pandas-docs/stable/user_guide/indexing.html#returning-a-view-versus-a-copy\n",
      "  df2['Brand'].iloc[i] = 'Other'\n",
      "C:\\Users\\Puru\\AppData\\Local\\Temp\\ipykernel_2604\\3731949047.py:4: SettingWithCopyWarning: \n",
      "A value is trying to be set on a copy of a slice from a DataFrame\n",
      "\n",
      "See the caveats in the documentation: https://pandas.pydata.org/pandas-docs/stable/user_guide/indexing.html#returning-a-view-versus-a-copy\n",
      "  df2['Brand'].iloc[i] = 'Other'\n",
      "C:\\Users\\Puru\\AppData\\Local\\Temp\\ipykernel_2604\\3731949047.py:4: SettingWithCopyWarning: \n",
      "A value is trying to be set on a copy of a slice from a DataFrame\n",
      "\n",
      "See the caveats in the documentation: https://pandas.pydata.org/pandas-docs/stable/user_guide/indexing.html#returning-a-view-versus-a-copy\n",
      "  df2['Brand'].iloc[i] = 'Other'\n",
      "C:\\Users\\Puru\\AppData\\Local\\Temp\\ipykernel_2604\\3731949047.py:4: SettingWithCopyWarning: \n",
      "A value is trying to be set on a copy of a slice from a DataFrame\n",
      "\n",
      "See the caveats in the documentation: https://pandas.pydata.org/pandas-docs/stable/user_guide/indexing.html#returning-a-view-versus-a-copy\n",
      "  df2['Brand'].iloc[i] = 'Other'\n",
      "C:\\Users\\Puru\\AppData\\Local\\Temp\\ipykernel_2604\\3731949047.py:4: SettingWithCopyWarning: \n",
      "A value is trying to be set on a copy of a slice from a DataFrame\n",
      "\n",
      "See the caveats in the documentation: https://pandas.pydata.org/pandas-docs/stable/user_guide/indexing.html#returning-a-view-versus-a-copy\n",
      "  df2['Brand'].iloc[i] = 'Other'\n",
      "C:\\Users\\Puru\\AppData\\Local\\Temp\\ipykernel_2604\\3731949047.py:4: SettingWithCopyWarning: \n",
      "A value is trying to be set on a copy of a slice from a DataFrame\n",
      "\n",
      "See the caveats in the documentation: https://pandas.pydata.org/pandas-docs/stable/user_guide/indexing.html#returning-a-view-versus-a-copy\n",
      "  df2['Brand'].iloc[i] = 'Other'\n",
      "C:\\Users\\Puru\\AppData\\Local\\Temp\\ipykernel_2604\\3731949047.py:4: SettingWithCopyWarning: \n",
      "A value is trying to be set on a copy of a slice from a DataFrame\n",
      "\n",
      "See the caveats in the documentation: https://pandas.pydata.org/pandas-docs/stable/user_guide/indexing.html#returning-a-view-versus-a-copy\n",
      "  df2['Brand'].iloc[i] = 'Other'\n",
      "C:\\Users\\Puru\\AppData\\Local\\Temp\\ipykernel_2604\\3731949047.py:4: SettingWithCopyWarning: \n",
      "A value is trying to be set on a copy of a slice from a DataFrame\n",
      "\n",
      "See the caveats in the documentation: https://pandas.pydata.org/pandas-docs/stable/user_guide/indexing.html#returning-a-view-versus-a-copy\n",
      "  df2['Brand'].iloc[i] = 'Other'\n",
      "C:\\Users\\Puru\\AppData\\Local\\Temp\\ipykernel_2604\\3731949047.py:4: SettingWithCopyWarning: \n",
      "A value is trying to be set on a copy of a slice from a DataFrame\n",
      "\n",
      "See the caveats in the documentation: https://pandas.pydata.org/pandas-docs/stable/user_guide/indexing.html#returning-a-view-versus-a-copy\n",
      "  df2['Brand'].iloc[i] = 'Other'\n",
      "C:\\Users\\Puru\\AppData\\Local\\Temp\\ipykernel_2604\\3731949047.py:4: SettingWithCopyWarning: \n",
      "A value is trying to be set on a copy of a slice from a DataFrame\n",
      "\n",
      "See the caveats in the documentation: https://pandas.pydata.org/pandas-docs/stable/user_guide/indexing.html#returning-a-view-versus-a-copy\n",
      "  df2['Brand'].iloc[i] = 'Other'\n"
     ]
    }
   ],
   "source": [
    "# Assigning the value as Other to the Brands having count<=5 \n",
    "for i in range(0,len(df2)):\n",
    "    if df2['Brand'].value_counts()[df2['Brand'].iloc[i]]<6:\n",
    "        df2['Brand'].iloc[i] = 'Other'\n",
    "        count = count+1      "
   ]
  },
  {
   "cell_type": "code",
   "execution_count": 171,
   "id": "0409b491",
   "metadata": {},
   "outputs": [
    {
     "name": "stdout",
     "output_type": "stream",
     "text": [
      "The total correction made till now are 42\n"
     ]
    }
   ],
   "source": [
    "#Printing the total number of corrections we have made till now for the brand Column\n",
    "print('The total correction made till now are', count)  "
   ]
  },
  {
   "cell_type": "code",
   "execution_count": 172,
   "id": "d56cf68b",
   "metadata": {},
   "outputs": [
    {
     "data": {
      "text/plain": [
       "ford          48\n",
       "chevrolet     47\n",
       "plymouth      31\n",
       "dodge         28\n",
       "amc           27\n",
       "Other         26\n",
       "toyota        26\n",
       "datsun        23\n",
       "volkswagen    22\n",
       "buick         17\n",
       "pontiac       16\n",
       "honda         13\n",
       "mazda         12\n",
       "mercury       11\n",
       "oldsmobile    10\n",
       "fiat           8\n",
       "peugeot        8\n",
       "audi           7\n",
       "chrysler       6\n",
       "volvo          6\n",
       "Name: Brand, dtype: int64"
      ]
     },
     "execution_count": 172,
     "metadata": {},
     "output_type": "execute_result"
    }
   ],
   "source": [
    "df2['Brand'].value_counts()"
   ]
  },
  {
   "cell_type": "code",
   "execution_count": 173,
   "id": "ddcd648e",
   "metadata": {},
   "outputs": [
    {
     "name": "stderr",
     "output_type": "stream",
     "text": [
      "C:\\Users\\Puru\\AppData\\Local\\Temp\\ipykernel_2604\\1408206968.py:2: SettingWithCopyWarning: \n",
      "A value is trying to be set on a copy of a slice from a DataFrame.\n",
      "Try using .loc[row_indexer,col_indexer] = value instead\n",
      "\n",
      "See the caveats in the documentation: https://pandas.pydata.org/pandas-docs/stable/user_guide/indexing.html#returning-a-view-versus-a-copy\n",
      "  df2['origin'] = df2['origin'].astype('category')\n",
      "C:\\Users\\Puru\\AppData\\Local\\Temp\\ipykernel_2604\\1408206968.py:3: SettingWithCopyWarning: \n",
      "A value is trying to be set on a copy of a slice from a DataFrame.\n",
      "Try using .loc[row_indexer,col_indexer] = value instead\n",
      "\n",
      "See the caveats in the documentation: https://pandas.pydata.org/pandas-docs/stable/user_guide/indexing.html#returning-a-view-versus-a-copy\n",
      "  df2['cylinders'] = df2['cylinders'].astype('category')\n"
     ]
    }
   ],
   "source": [
    "#Changing the datatype of the origin and Cylinders  column to be as categorical \n",
    "df2['origin'] = df2['origin'].astype('category')\n",
    "df2['cylinders'] = df2['cylinders'].astype('category')"
   ]
  },
  {
   "cell_type": "code",
   "execution_count": 174,
   "id": "be0f167f",
   "metadata": {},
   "outputs": [],
   "source": [
    "#generating the One Hot Encoded Columns using the get dummies function we can also use \n",
    "#One hot encoder from the Sklern.preprocessing library but this one is the much simpler approach\n",
    "df_OneHotEncode = pd.get_dummies(df2.origin , sparse = False)\n",
    "df_OneHotEncode1 = pd.get_dummies(df2.cylinders , sparse = False)\n"
   ]
  },
  {
   "cell_type": "code",
   "execution_count": 175,
   "id": "fec73b5e",
   "metadata": {},
   "outputs": [
    {
     "name": "stdout",
     "output_type": "stream",
     "text": [
      "      mpg cylinders  displacement  horsepower  weight  acceleration  \\\n",
      "0    18.0         8         307.0       130.0  3504.0          12.0   \n",
      "1    15.0         8         350.0       165.0  3693.0          11.5   \n",
      "2    18.0         8         318.0       150.0  3436.0          11.0   \n",
      "3    16.0         8         304.0       150.0  3433.0          12.0   \n",
      "4    17.0         8         302.0       140.0  3449.0          10.5   \n",
      "..    ...       ...           ...         ...     ...           ...   \n",
      "395  27.0         4         140.0        86.0  2790.0          15.6   \n",
      "396  44.0         4          97.0        52.0  2130.0          21.9   \n",
      "397  32.0         4         135.0        84.0  2295.0          11.6   \n",
      "398  28.0         4         120.0        79.0  2625.0          18.6   \n",
      "399  31.0         4         119.0        82.0  2720.0          19.4   \n",
      "\n",
      "    model_year  origin                   car_name year_class       Brand  \\\n",
      "0   1970-01-01  Europe  chevrolet chevelle malibu    Class A   chevrolet   \n",
      "1   1970-01-01  Europe          buick skylark 320    Class A       buick   \n",
      "2   1970-01-01  Europe         plymouth satellite    Class A    plymouth   \n",
      "3   1970-01-01  Europe              amc rebel sst    Class A         amc   \n",
      "4   1970-01-01  Europe                ford torino    Class A        ford   \n",
      "..         ...     ...                        ...        ...         ...   \n",
      "395 1982-01-01  Europe            ford mustang gl    Class C        ford   \n",
      "396 1982-01-01     USA                  vw pickup    Class C  volkswagen   \n",
      "397 1982-01-01  Europe              dodge rampage    Class C       dodge   \n",
      "398 1982-01-01  Europe                ford ranger    Class C        ford   \n",
      "399 1982-01-01  Europe                 chevy s-10    Class C   chevrolet   \n",
      "\n",
      "     Europe  Japan  USA  4  6  8  \n",
      "0         1      0    0  0  0  1  \n",
      "1         1      0    0  0  0  1  \n",
      "2         1      0    0  0  0  1  \n",
      "3         1      0    0  0  0  1  \n",
      "4         1      0    0  0  0  1  \n",
      "..      ...    ...  ... .. .. ..  \n",
      "395       1      0    0  1  0  0  \n",
      "396       0      0    1  1  0  0  \n",
      "397       1      0    0  1  0  0  \n",
      "398       1      0    0  1  0  0  \n",
      "399       1      0    0  1  0  0  \n",
      "\n",
      "[392 rows x 17 columns]\n"
     ]
    }
   ],
   "source": [
    "#Concatinating the Newly generated rows for the Origin and Cylinders column to the orignal\n",
    "#Dataframe \n",
    "df6 = pd.concat([df2 , df_OneHotEncode ,df_OneHotEncode1 ] , axis =1  )\n",
    "print(df6)"
   ]
  },
  {
   "cell_type": "code",
   "execution_count": 176,
   "id": "741a138d",
   "metadata": {},
   "outputs": [
    {
     "data": {
      "image/png": "[encoded data removed]",
      "text/plain": [
       "<Figure size 640x480 with 2 Axes>"
      ]
     },
     "metadata": {},
     "output_type": "display_data"
    }
   ],
   "source": [
    "#Plotting the correlation matrix for the origin column with the mpg column \n",
    "Correlation_Matrix = df6[['USA', 'Japan' , 'Europe',  'mpg']].corr()\n",
    "sea.heatmap(Correlation_Matrix , annot= True)\n",
    "plt.show()"
   ]
  },
  {
   "cell_type": "code",
   "execution_count": 177,
   "id": "a583230e",
   "metadata": {},
   "outputs": [
    {
     "name": "stdout",
     "output_type": "stream",
     "text": [
      "PointbiserialrResult(correlation=0.2443125009843881, pvalue=9.77654342305441e-07) USA vs mpg\n",
      "PointbiserialrResult(correlation=0.4514536299297465, pvalue=4.420895151852598e-21) Japan vs mpg\n",
      "PointbiserialrResult(correlation=-0.5651605934550841, pvalue=1.8397072868725599e-34) Europe vs mpg\n"
     ]
    }
   ],
   "source": [
    "#Checking in the correlation coefficients using the pointbiserial function\n",
    "import scipy.stats as stats\n",
    "print(stats.pointbiserialr(df6['mpg'], df6['USA'] ) , 'USA vs mpg')\n",
    "print( stats.pointbiserialr(df6['mpg'], df6['Japan'] ), 'Japan vs mpg')\n",
    "print (stats.pointbiserialr(df6['mpg'], df6['Europe'] ), 'Europe vs mpg')"
   ]
  },
  {
   "cell_type": "code",
   "execution_count": 178,
   "id": "a8885389",
   "metadata": {},
   "outputs": [
    {
     "data": {
      "image/png": "[encoded data removed]",
      "text/plain": [
       "<Figure size 640x480 with 2 Axes>"
      ]
     },
     "metadata": {},
     "output_type": "display_data"
    }
   ],
   "source": [
    "#Plotting the correlation matrix for the One hot encoded Cylinders  column with the mpg column \n",
    "Correlation_Matrix_1 = df6[[4, 6 , 8,  'mpg']].corr()\n",
    "sea.heatmap(Correlation_Matrix_1 , annot= True)\n",
    "plt.show()"
   ]
  },
  {
   "cell_type": "code",
   "execution_count": 179,
   "id": "c8f8b0d5",
   "metadata": {},
   "outputs": [
    {
     "name": "stdout",
     "output_type": "stream",
     "text": [
      "PointbiserialrResult(correlation=0.7528329373331528, pvalue=7.783172982761409e-73) 4 Cyl vs mpg\n",
      "PointbiserialrResult(correlation=-0.2195355855886975, pvalue=1.152807330965387e-05) 6 Cyl vs mpg\n",
      "PointbiserialrResult(correlation=-0.6496670519179473, pvalue=2.280367635736409e-48) 8 Cyl vs mpg\n"
     ]
    }
   ],
   "source": [
    "#Checking in the correlation coefficients using the pointbiserial function\n",
    "print(stats.pointbiserialr(df6[4], df6['mpg'] ) , '4 Cyl vs mpg')\n",
    "print( stats.pointbiserialr(df6[6], df6['mpg'] ), '6 Cyl vs mpg')\n",
    "print (stats.pointbiserialr(df6[8], df6['mpg'] ), '8 Cyl vs mpg')"
   ]
  },
  {
   "cell_type": "code",
   "execution_count": 180,
   "id": "a8127416",
   "metadata": {},
   "outputs": [
    {
     "data": {
      "text/plain": [
       "Text(0.5, 0.98, 'Boxplot for MPG')"
      ]
     },
     "execution_count": 180,
     "metadata": {},
     "output_type": "execute_result"
    },
    {
     "data": {
      "image/png": "[encoded data removed]",
      "text/plain": [
       "<Figure size 640x480 with 1 Axes>"
      ]
     },
     "metadata": {},
     "output_type": "display_data"
    }
   ],
   "source": [
    "#Plotting the boxplots for the MPG based on Cylinders to verify the relationship b/w the correlations coefficient\n",
    "#of the mpg vs One hot encoded cylinders column \n",
    "props = dict(boxes=\"Green\", whiskers=\"Orange\", medians=\"Blue\", caps=\"Gray\")\n",
    "bp = df2.boxplot(column = 'mpg', by='cylinders' , vert = False , color=props, patch_artist=True  )\n",
    "plt.suptitle(\"Boxplot for MPG\") "
   ]
  },
  {
   "cell_type": "code",
   "execution_count": 181,
   "id": "421668af",
   "metadata": {},
   "outputs": [
    {
     "data": {
      "image/png": "[encoded data removed]",
      "text/plain": [
       "<Figure size 640x480 with 2 Axes>"
      ]
     },
     "metadata": {},
     "output_type": "display_data"
    }
   ],
   "source": [
    "#label Encoding the Origin Column\n",
    "from sklearn.preprocessing import LabelEncoder\n",
    "LE1 = LabelEncoder()\n",
    "df6['origin'] = LE1.fit_transform(df6['origin']) \n",
    "Correlation_Matrix_2 = df6[['origin' , 'mpg' ]].corr()\n",
    "sea.heatmap(Correlation_Matrix_2 , annot= True)\n",
    "plt.show()"
   ]
  },
  {
   "cell_type": "code",
   "execution_count": 182,
   "id": "c784361c",
   "metadata": {},
   "outputs": [
    {
     "data": {
      "text/plain": [
       "0    245\n",
       "1     79\n",
       "2     68\n",
       "Name: origin, dtype: int64"
      ]
     },
     "execution_count": 182,
     "metadata": {},
     "output_type": "execute_result"
    }
   ],
   "source": [
    "#Verifying the label Encoded Values \n",
    "df6['origin'].value_counts()\n"
   ]
  },
  {
   "cell_type": "code",
   "execution_count": 183,
   "id": "62a8db92",
   "metadata": {},
   "outputs": [
    {
     "name": "stdout",
     "output_type": "stream",
     "text": [
      "PointbiserialrResult(correlation=0.4748002968835666, pvalue=1.959478880275074e-23) Origin vs mpg\n"
     ]
    }
   ],
   "source": [
    "#Checking in the correlation coefficients using the pointbiserial function\n",
    "print(stats.pointbiserialr(df6['origin'], df6['mpg'] ) , 'Origin vs mpg')"
   ]
  },
  {
   "cell_type": "code",
   "execution_count": 184,
   "id": "7f8f7941",
   "metadata": {},
   "outputs": [
    {
     "data": {
      "image/png": "[encoded data removed]",
      "text/plain": [
       "<Figure size 640x480 with 2 Axes>"
      ]
     },
     "metadata": {},
     "output_type": "display_data"
    }
   ],
   "source": [
    "#Label encoding the Cylinder column and plotting the correlation matrix \n",
    "LE2 = LabelEncoder()\n",
    "df6['cylinders'] = LE1.fit_transform(df6['cylinders']) \n",
    "Correlation_Matrix_3 = df6[['cylinders' , 'mpg' ]].corr()\n",
    "sea.heatmap(Correlation_Matrix_3 , annot= True)\n",
    "plt.show()"
   ]
  },
  {
   "cell_type": "code",
   "execution_count": 185,
   "id": "f4844097",
   "metadata": {},
   "outputs": [
    {
     "data": {
      "text/plain": [
       "CategoricalDtype(categories=[0, 1, 2], ordered=False)"
      ]
     },
     "execution_count": 185,
     "metadata": {},
     "output_type": "execute_result"
    }
   ],
   "source": [
    "\n",
    "df6['cylinders'] = df6['cylinders'].astype('category')\n",
    "df6['cylinders'].dtype"
   ]
  },
  {
   "cell_type": "code",
   "execution_count": 186,
   "id": "4e0a4232",
   "metadata": {},
   "outputs": [
    {
     "name": "stdout",
     "output_type": "stream",
     "text": [
      "PointbiserialrResult(correlation=-0.781205991341669, pvalue=8.106358637539292e-82) Cylinder vs mpg\n"
     ]
    }
   ],
   "source": [
    "#Checking in the correlation coefficients using the pointbiserial function\n",
    "print(stats.pointbiserialr(df6['mpg'], df6['cylinders'] ) , 'Cylinder vs mpg')"
   ]
  },
  {
   "cell_type": "code",
   "execution_count": 187,
   "id": "5318a5e6",
   "metadata": {},
   "outputs": [
    {
     "data": {
      "text/plain": [
       "<AxesSubplot: >"
      ]
     },
     "execution_count": 187,
     "metadata": {},
     "output_type": "execute_result"
    },
    {
     "data": {
      "image/png": "[encoded data removed]",
      "text/plain": [
       "<Figure size 640x480 with 1 Axes>"
      ]
     },
     "metadata": {},
     "output_type": "display_data"
    }
   ],
   "source": [
    "#Plotting in the histogram for analyzing the mpg column \n",
    "df2['mpg'].hist()"
   ]
  },
  {
   "cell_type": "code",
   "execution_count": 188,
   "id": "f3b2e032",
   "metadata": {},
   "outputs": [
    {
     "data": {
      "text/plain": [
       "count    392.000000\n",
       "mean      23.445918\n",
       "std        7.805007\n",
       "min        9.000000\n",
       "25%       17.000000\n",
       "50%       22.750000\n",
       "75%       29.000000\n",
       "max       46.600000\n",
       "Name: mpg, dtype: float64"
      ]
     },
     "execution_count": 188,
     "metadata": {},
     "output_type": "execute_result"
    }
   ],
   "source": [
    "\n",
    "#Creating a new copy of the dataframe for futher manipulation \n",
    "df7 = df2.copy(deep = True)\n",
    "df7['mpg'].describe()"
   ]
  },
  {
   "cell_type": "code",
   "execution_count": 189,
   "id": "71e826d7",
   "metadata": {},
   "outputs": [
    {
     "name": "stderr",
     "output_type": "stream",
     "text": [
      "C:\\Users\\Puru\\AppData\\Local\\Temp\\ipykernel_2604\\2232719696.py:6: SettingWithCopyWarning: \n",
      "A value is trying to be set on a copy of a slice from a DataFrame\n",
      "\n",
      "See the caveats in the documentation: https://pandas.pydata.org/pandas-docs/stable/user_guide/indexing.html#returning-a-view-versus-a-copy\n",
      "  df7['Class_mpg'].iloc[i] = 'Low'\n",
      "C:\\Users\\Puru\\AppData\\Local\\Temp\\ipykernel_2604\\2232719696.py:8: SettingWithCopyWarning: \n",
      "A value is trying to be set on a copy of a slice from a DataFrame\n",
      "\n",
      "See the caveats in the documentation: https://pandas.pydata.org/pandas-docs/stable/user_guide/indexing.html#returning-a-view-versus-a-copy\n",
      "  df7['Class_mpg'].iloc[i] = 'Medium'\n",
      "C:\\Users\\Puru\\AppData\\Local\\Temp\\ipykernel_2604\\2232719696.py:10: SettingWithCopyWarning: \n",
      "A value is trying to be set on a copy of a slice from a DataFrame\n",
      "\n",
      "See the caveats in the documentation: https://pandas.pydata.org/pandas-docs/stable/user_guide/indexing.html#returning-a-view-versus-a-copy\n",
      "  df7['Class_mpg'].iloc[i]  = 'High'\n"
     ]
    }
   ],
   "source": [
    "#Assiging the High Medium Low values to the new Class_mpg column formed based on the mpg \n",
    "#Values for their corresponding column and the frequency of the cars in each category\n",
    "df7['Class_mpg'] = pd.NA\n",
    "for i in range(0,len(df7)):\n",
    "    if df7['mpg'].iloc[i] < 19 :\n",
    "        df7['Class_mpg'].iloc[i] = 'Low'\n",
    "    elif df7['mpg'].iloc[i]<27 and  df7['mpg'].iloc[i]>=19:\n",
    "        df7['Class_mpg'].iloc[i] = 'Medium'\n",
    "    elif df7['mpg'].iloc[i]>= 27 and  df7['mpg'].iloc[i]<= 46.6:\n",
    "        df7['Class_mpg'].iloc[i]  = 'High'"
   ]
  },
  {
   "cell_type": "code",
   "execution_count": 190,
   "id": "7e145f7e",
   "metadata": {},
   "outputs": [
    {
     "data": {
      "text/plain": [
       "Low       131\n",
       "High      131\n",
       "Medium    130\n",
       "Name: Class_mpg, dtype: int64"
      ]
     },
     "execution_count": 190,
     "metadata": {},
     "output_type": "execute_result"
    }
   ],
   "source": [
    "#verifying the frequency of cars in the new column formed \n",
    "df7['Class_mpg'].value_counts()"
   ]
  },
  {
   "cell_type": "code",
   "execution_count": 191,
   "id": "8486c49f",
   "metadata": {},
   "outputs": [
    {
     "data": {
      "text/html": [
       "<div>\n",
       "<style scoped>\n",
       "    .dataframe tbody tr th:only-of-type {\n",
       "        vertical-align: middle;\n",
       "    }\n",
       "\n",
       "    .dataframe tbody tr th {\n",
       "        vertical-align: top;\n",
       "    }\n",
       "\n",
       "    .dataframe thead th {\n",
       "        text-align: right;\n",
       "    }\n",
       "</style>\n",
       "<table border=\"1\" class=\"dataframe\">\n",
       "  <thead>\n",
       "    <tr style=\"text-align: right;\">\n",
       "      <th></th>\n",
       "      <th>mpg</th>\n",
       "      <th>displacement</th>\n",
       "      <th>horsepower</th>\n",
       "      <th>weight</th>\n",
       "      <th>acceleration</th>\n",
       "    </tr>\n",
       "  </thead>\n",
       "  <tbody>\n",
       "    <tr>\n",
       "      <th>0</th>\n",
       "      <td>18.0</td>\n",
       "      <td>307.0</td>\n",
       "      <td>130.0</td>\n",
       "      <td>3504.0</td>\n",
       "      <td>12.0</td>\n",
       "    </tr>\n",
       "    <tr>\n",
       "      <th>1</th>\n",
       "      <td>15.0</td>\n",
       "      <td>350.0</td>\n",
       "      <td>165.0</td>\n",
       "      <td>3693.0</td>\n",
       "      <td>11.5</td>\n",
       "    </tr>\n",
       "    <tr>\n",
       "      <th>2</th>\n",
       "      <td>18.0</td>\n",
       "      <td>318.0</td>\n",
       "      <td>150.0</td>\n",
       "      <td>3436.0</td>\n",
       "      <td>11.0</td>\n",
       "    </tr>\n",
       "    <tr>\n",
       "      <th>3</th>\n",
       "      <td>16.0</td>\n",
       "      <td>304.0</td>\n",
       "      <td>150.0</td>\n",
       "      <td>3433.0</td>\n",
       "      <td>12.0</td>\n",
       "    </tr>\n",
       "    <tr>\n",
       "      <th>4</th>\n",
       "      <td>17.0</td>\n",
       "      <td>302.0</td>\n",
       "      <td>140.0</td>\n",
       "      <td>3449.0</td>\n",
       "      <td>10.5</td>\n",
       "    </tr>\n",
       "    <tr>\n",
       "      <th>...</th>\n",
       "      <td>...</td>\n",
       "      <td>...</td>\n",
       "      <td>...</td>\n",
       "      <td>...</td>\n",
       "      <td>...</td>\n",
       "    </tr>\n",
       "    <tr>\n",
       "      <th>395</th>\n",
       "      <td>27.0</td>\n",
       "      <td>140.0</td>\n",
       "      <td>86.0</td>\n",
       "      <td>2790.0</td>\n",
       "      <td>15.6</td>\n",
       "    </tr>\n",
       "    <tr>\n",
       "      <th>396</th>\n",
       "      <td>44.0</td>\n",
       "      <td>97.0</td>\n",
       "      <td>52.0</td>\n",
       "      <td>2130.0</td>\n",
       "      <td>21.9</td>\n",
       "    </tr>\n",
       "    <tr>\n",
       "      <th>397</th>\n",
       "      <td>32.0</td>\n",
       "      <td>135.0</td>\n",
       "      <td>84.0</td>\n",
       "      <td>2295.0</td>\n",
       "      <td>11.6</td>\n",
       "    </tr>\n",
       "    <tr>\n",
       "      <th>398</th>\n",
       "      <td>28.0</td>\n",
       "      <td>120.0</td>\n",
       "      <td>79.0</td>\n",
       "      <td>2625.0</td>\n",
       "      <td>18.6</td>\n",
       "    </tr>\n",
       "    <tr>\n",
       "      <th>399</th>\n",
       "      <td>31.0</td>\n",
       "      <td>119.0</td>\n",
       "      <td>82.0</td>\n",
       "      <td>2720.0</td>\n",
       "      <td>19.4</td>\n",
       "    </tr>\n",
       "  </tbody>\n",
       "</table>\n",
       "<p>392 rows × 5 columns</p>\n",
       "</div>"
      ],
      "text/plain": [
       "      mpg  displacement  horsepower  weight  acceleration\n",
       "0    18.0         307.0       130.0  3504.0          12.0\n",
       "1    15.0         350.0       165.0  3693.0          11.5\n",
       "2    18.0         318.0       150.0  3436.0          11.0\n",
       "3    16.0         304.0       150.0  3433.0          12.0\n",
       "4    17.0         302.0       140.0  3449.0          10.5\n",
       "..    ...           ...         ...     ...           ...\n",
       "395  27.0         140.0        86.0  2790.0          15.6\n",
       "396  44.0          97.0        52.0  2130.0          21.9\n",
       "397  32.0         135.0        84.0  2295.0          11.6\n",
       "398  28.0         120.0        79.0  2625.0          18.6\n",
       "399  31.0         119.0        82.0  2720.0          19.4\n",
       "\n",
       "[392 rows x 5 columns]"
      ]
     },
     "execution_count": 191,
     "metadata": {},
     "output_type": "execute_result"
    }
   ],
   "source": [
    "#Forming a new dataframe and dropping the columns not required for PCA Analysis\n",
    "df8 = df7.copy(deep = True)\n",
    "df8 = df8.drop(['cylinders' , 'model_year' , 'car_name' ,  'year_class' , 'Brand' , 'origin' , 'Class_mpg'], axis = 1)\n",
    "df8"
   ]
  },
  {
   "cell_type": "code",
   "execution_count": 192,
   "id": "5f194b1a",
   "metadata": {},
   "outputs": [],
   "source": [
    "#Scaling the dataset for the PCA operation to be performed \n",
    "sc6 = StandardScaler()\n",
    "df8_scaled = sc6.fit_transform(df8)"
   ]
  },
  {
   "cell_type": "code",
   "execution_count": 193,
   "id": "ae1914d2",
   "metadata": {},
   "outputs": [
    {
     "data": {
      "text/plain": [
       "(392, 5)"
      ]
     },
     "execution_count": 193,
     "metadata": {},
     "output_type": "execute_result"
    }
   ],
   "source": [
    "df8_scaled.shape"
   ]
  },
  {
   "cell_type": "code",
   "execution_count": 194,
   "id": "35e58d2b",
   "metadata": {},
   "outputs": [],
   "source": [
    "#performing the PCA on the dataset by passing in the number of components that should be returned by the PCA \n",
    "from sklearn.decomposition import PCA \n",
    "pca_1 = PCA(n_components = 3 )\n",
    "pca_final = pca_1.fit_transform(df8_scaled)"
   ]
  },
  {
   "cell_type": "code",
   "execution_count": 195,
   "id": "02838794",
   "metadata": {},
   "outputs": [
    {
     "data": {
      "text/plain": [
       "(392, 3)"
      ]
     },
     "execution_count": 195,
     "metadata": {},
     "output_type": "execute_result"
    }
   ],
   "source": [
    "\n",
    "pca_final.shape"
   ]
  },
  {
   "cell_type": "code",
   "execution_count": 196,
   "id": "43492db2",
   "metadata": {},
   "outputs": [],
   "source": [
    "#Converting the PCA back from the Array to dataframe format  \n",
    "pca_df1 = pd.DataFrame(\n",
    "    data=pca_final, \n",
    "    columns=['PC1', 'PC2' ,'PC3'])\n"
   ]
  },
  {
   "cell_type": "code",
   "execution_count": 197,
   "id": "f14e3ceb",
   "metadata": {},
   "outputs": [
    {
     "data": {
      "text/html": [
       "<div>\n",
       "<style scoped>\n",
       "    .dataframe tbody tr th:only-of-type {\n",
       "        vertical-align: middle;\n",
       "    }\n",
       "\n",
       "    .dataframe tbody tr th {\n",
       "        vertical-align: top;\n",
       "    }\n",
       "\n",
       "    .dataframe thead th {\n",
       "        text-align: right;\n",
       "    }\n",
       "</style>\n",
       "<table border=\"1\" class=\"dataframe\">\n",
       "  <thead>\n",
       "    <tr style=\"text-align: right;\">\n",
       "      <th></th>\n",
       "      <th>PC1</th>\n",
       "      <th>PC2</th>\n",
       "      <th>PC3</th>\n",
       "    </tr>\n",
       "  </thead>\n",
       "  <tbody>\n",
       "    <tr>\n",
       "      <th>0</th>\n",
       "      <td>1.902268</td>\n",
       "      <td>-0.678270</td>\n",
       "      <td>-0.042722</td>\n",
       "    </tr>\n",
       "    <tr>\n",
       "      <th>1</th>\n",
       "      <td>2.895515</td>\n",
       "      <td>-0.709214</td>\n",
       "      <td>-0.005084</td>\n",
       "    </tr>\n",
       "    <tr>\n",
       "      <th>2</th>\n",
       "      <td>2.301772</td>\n",
       "      <td>-1.082227</td>\n",
       "      <td>0.006659</td>\n",
       "    </tr>\n",
       "    <tr>\n",
       "      <th>3</th>\n",
       "      <td>2.223623</td>\n",
       "      <td>-0.693157</td>\n",
       "      <td>-0.206381</td>\n",
       "    </tr>\n",
       "    <tr>\n",
       "      <th>4</th>\n",
       "      <td>2.224482</td>\n",
       "      <td>-1.188635</td>\n",
       "      <td>-0.225629</td>\n",
       "    </tr>\n",
       "    <tr>\n",
       "      <th>...</th>\n",
       "      <td>...</td>\n",
       "      <td>...</td>\n",
       "      <td>...</td>\n",
       "    </tr>\n",
       "    <tr>\n",
       "      <th>387</th>\n",
       "      <td>-0.802754</td>\n",
       "      <td>-0.197225</td>\n",
       "      <td>0.033354</td>\n",
       "    </tr>\n",
       "    <tr>\n",
       "      <th>388</th>\n",
       "      <td>-3.569745</td>\n",
       "      <td>0.989743</td>\n",
       "      <td>1.632088</td>\n",
       "    </tr>\n",
       "    <tr>\n",
       "      <th>389</th>\n",
       "      <td>-0.908436</td>\n",
       "      <td>-1.895059</td>\n",
       "      <td>0.136309</td>\n",
       "    </tr>\n",
       "    <tr>\n",
       "      <th>390</th>\n",
       "      <td>-1.511811</td>\n",
       "      <td>0.680077</td>\n",
       "      <td>0.134096</td>\n",
       "    </tr>\n",
       "    <tr>\n",
       "      <th>391</th>\n",
       "      <td>-1.695764</td>\n",
       "      <td>0.846921</td>\n",
       "      <td>0.545082</td>\n",
       "    </tr>\n",
       "  </tbody>\n",
       "</table>\n",
       "<p>392 rows × 3 columns</p>\n",
       "</div>"
      ],
      "text/plain": [
       "          PC1       PC2       PC3\n",
       "0    1.902268 -0.678270 -0.042722\n",
       "1    2.895515 -0.709214 -0.005084\n",
       "2    2.301772 -1.082227  0.006659\n",
       "3    2.223623 -0.693157 -0.206381\n",
       "4    2.224482 -1.188635 -0.225629\n",
       "..        ...       ...       ...\n",
       "387 -0.802754 -0.197225  0.033354\n",
       "388 -3.569745  0.989743  1.632088\n",
       "389 -0.908436 -1.895059  0.136309\n",
       "390 -1.511811  0.680077  0.134096\n",
       "391 -1.695764  0.846921  0.545082\n",
       "\n",
       "[392 rows x 3 columns]"
      ]
     },
     "execution_count": 197,
     "metadata": {},
     "output_type": "execute_result"
    }
   ],
   "source": [
    "pca_df1  "
   ]
  },
  {
   "cell_type": "code",
   "execution_count": 198,
   "id": "57e642f5",
   "metadata": {},
   "outputs": [],
   "source": [
    "#Assigning the Class_mpg class values to the PCA Dataframe \n",
    "target_names = df7['Class_mpg']\n",
    "pca_df1['target'] = target_names"
   ]
  },
  {
   "cell_type": "code",
   "execution_count": 200,
   "id": "5178d6fb",
   "metadata": {},
   "outputs": [
    {
     "data": {
      "image/png": "[encoded data removed]",
      "text/plain": [
       "<Figure size 640x480 with 1 Axes>"
      ]
     },
     "metadata": {},
     "output_type": "display_data"
    }
   ],
   "source": [
    "#Finally scatter plotting in the mpg by keeping the first two PCA's as the scale \n",
    "sea.scatterplot(x = np.array(pca_df1.iloc[:,0]) , y = np.array(pca_df1.iloc[:,1]) , s= 70 , hue=df7['Class_mpg'] )\n",
    "plt.show()"
   ]
  }
 ],
 "metadata": {
  "kernelspec": {
   "display_name": "Python 3.10.6 64-bit",
   "language": "python",
   "name": "python3"
  },
  "language_info": {
   "codemirror_mode": {
    "name": "ipython",
    "version": 3
   },
   "file_extension": ".py",
   "mimetype": "text/x-python",
   "name": "python",
   "nbconvert_exporter": "python",
   "pygments_lexer": "ipython3",
   "version": "3.10.6"
  },
  "vscode": {
   "interpreter": {
    "hash": "21c779b1e7ff8b302b7769b2d7d92451f891d284ac3951d229ca911c30035b2e"
   }
  }
 },
 "nbformat": 4,
 "nbformat_minor": 5
}
